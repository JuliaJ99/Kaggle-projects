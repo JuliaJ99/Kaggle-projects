{
 "cells": [
  {
   "cell_type": "markdown",
   "metadata": {},
   "source": [
    "# Introduction\n",
    "The following uses the Titanic dataset obtained via Kaggle https://www.kaggle.com/c/titanic/overview/evaluation . I visualize the relationships of the variables with survival of each passenger, attempt to generate additional useful features and use two ML models to predict survival (Namely Random Forest and XGBoost, as I have seen it perform the best when it comes to classification). Both were subjected to hyperparameter tuning before settling on the final model. The metric used is accuracy and cross-fold validation is implemented to get a better estimate of the model's performance on unseen data\n",
    "\n",
    "# Table of Contents\n",
    " _[Data Cleaning](#DataCleaning)_\n",
    " \n",
    " _[Feature Engineering, Visualization & EDA](#FE)_\n",
    " \n",
    " _[Modelling](#Mod)_\n",
    " \n",
    " &nbsp;&nbsp;&nbsp;&nbsp;_[Model 1: Random Forest Classifier](#RF)_\n",
    " \n",
    " &nbsp;&nbsp;&nbsp;&nbsp;&nbsp;&nbsp;&nbsp;&nbsp;_[Hyperparameter tuning using Grid Search CV](#RFGSCV)_\n",
    " \n",
    " &nbsp;&nbsp;&nbsp;&nbsp;_[Model 2: XGBoost Classifier](#XGB)_\n",
    " \n",
    " &nbsp;&nbsp;&nbsp;&nbsp;&nbsp;&nbsp;&nbsp;&nbsp;_[Hyperparameter tuning](#XGBGSCV)_\n",
    " \n",
    " &nbsp;&nbsp;&nbsp;&nbsp;_[Plotting Confusion Matrix for both models](#CF)_\n",
    " \n",
    " &nbsp;&nbsp;&nbsp;&nbsp;_[Visualizing Feature Importance for the Random Forest Model](#FI)_\n",
    " \n",
    " _[Predicting using the final model for submission](#Predict)_"
   ]
  },
  {
   "cell_type": "code",
   "execution_count": 1,
   "metadata": {
    "_cell_guid": "b1076dfc-b9ad-4769-8c92-a6c4dae69d19",
    "_uuid": "8f2839f25d086af736a60e9eeb907d3b93b6e0e5",
    "tags": []
   },
   "outputs": [],
   "source": [
    "import pandas as pd # data processing\n",
    "import sklearn as sklearn #machine learning library\n",
    "import numpy as np\n",
    "import warnings\n",
    "warnings.filterwarnings('ignore')\n",
    "\n",
    "#Importing matplotlib for graphing \n",
    "import matplotlib.pyplot as plt\n",
    "import seaborn as sns\n",
    "from matplotlib import rcParams\n",
    "%matplotlib inline"
   ]
  },
  {
   "cell_type": "code",
   "execution_count": 2,
   "metadata": {
    "tags": []
   },
   "outputs": [
    {
     "data": {
      "text/plain": [
       "(891, 11)"
      ]
     },
     "execution_count": 2,
     "metadata": {},
     "output_type": "execute_result"
    }
   ],
   "source": [
    "Train_full=pd.read_csv('../Downloads/Titanic/train.csv',index_col='PassengerId')\n",
    "Test_full=pd.read_csv('../Downloads/Titanic/test.csv',index_col='PassengerId')\n",
    "Train_full.shape"
   ]
  },
  {
   "cell_type": "markdown",
   "metadata": {},
   "source": [
    "<a id='DataCleaning'></a>\n",
    "# Data Cleaning"
   ]
  },
  {
   "cell_type": "code",
   "execution_count": 3,
   "metadata": {
    "slideshow": {
     "slide_type": "notes"
    },
    "tags": []
   },
   "outputs": [],
   "source": [
    "#Drop rows where value for survived is missing\n",
    "Train_full=Train_full.dropna(subset=['Survived'],axis=0)"
   ]
  },
  {
   "cell_type": "code",
   "execution_count": 4,
   "metadata": {},
   "outputs": [],
   "source": [
    "# Create a list of the datasets so that we can do the same process for training as well as test datasets\n",
    "Datasets=[Train_full,Test_full]"
   ]
  },
  {
   "cell_type": "markdown",
   "metadata": {},
   "source": [
    "### Dealing with missing values"
   ]
  },
  {
   "cell_type": "code",
   "execution_count": 5,
   "metadata": {},
   "outputs": [
    {
     "name": "stdout",
     "output_type": "stream",
     "text": [
      "Testing set null values\n",
      " Pclass        0\n",
      "Name          0\n",
      "Sex           0\n",
      "Age          86\n",
      "SibSp         0\n",
      "Parch         0\n",
      "Ticket        0\n",
      "Fare          1\n",
      "Cabin       327\n",
      "Embarked      0\n",
      "dtype: int64\n",
      "\n",
      "Training set null values\n",
      " Survived      0\n",
      "Pclass        0\n",
      "Name          0\n",
      "Sex           0\n",
      "Age         177\n",
      "SibSp         0\n",
      "Parch         0\n",
      "Ticket        0\n",
      "Fare          0\n",
      "Cabin       687\n",
      "Embarked      2\n",
      "dtype: int64\n"
     ]
    }
   ],
   "source": [
    "#Counting the number of missing values by column\n",
    "print(\"Testing set null values\\n\",Test_full.isnull().sum())\n",
    "print(\"\\nTraining set null values\\n\",Train_full.isnull().sum())"
   ]
  },
  {
   "cell_type": "markdown",
   "metadata": {},
   "source": [
    "### Filling in missing values for 'Fare' and 'Embarked'\n"
   ]
  },
  {
   "cell_type": "code",
   "execution_count": 6,
   "metadata": {},
   "outputs": [],
   "source": [
    "#Fill in missing values using Pandas fillna for both training and test data\n",
    "for Dataset in Datasets:\n",
    "    Dataset['Embarked'].fillna(Dataset['Embarked'].mode()[0],inplace=True)\n",
    "    Dataset['Fare'].fillna(Dataset['Fare'].median(),inplace=True) #Skewed distribution, hence, median\n"
   ]
  },
  {
   "cell_type": "markdown",
   "metadata": {},
   "source": [
    "<a id='FE'></a>\n",
    "# Feature Engineering, Visualization, EDA\n",
    "Closely examining each variable, visualizing patterns in survival, creating new variables\n",
    "\n",
    "#### _Variables:_\n",
    "\n",
    "&nbsp;&nbsp;&nbsp;&nbsp;_[Sex](#Sex)_\n",
    "\n",
    "&nbsp;&nbsp;&nbsp;&nbsp;_[Passenger Class](#Pclass)_\n",
    "\n",
    "&nbsp;&nbsp;&nbsp;&nbsp;_[Embarked](#Emb)_\n",
    "\n",
    "&nbsp;&nbsp;&nbsp;&nbsp;_[Fare](#Fare)_\n",
    "\n",
    "&nbsp;&nbsp;&nbsp;&nbsp;_[Age](#Age)_\n",
    "\n",
    "&nbsp;&nbsp;&nbsp;&nbsp;_[Cabin](#Cabin)_\n",
    "\n",
    "&nbsp;&nbsp;&nbsp;&nbsp;_[SibSp (Siblings and Spouse), Parch (Parents and Children)](#SibSpParch)_\n",
    "\n",
    "&nbsp;&nbsp;&nbsp;&nbsp;_[Name](#Name)_\n",
    "\n",
    "\n",
    "\n",
    "_[Correlation of each variable with survival](#Corr)_\n",
    "\n",
    "_[Dropping unnecessary variables](#Drop)_\n",
    "\n",
    "_[Train test split](#Train)_\n"
   ]
  },
  {
   "cell_type": "markdown",
   "metadata": {},
   "source": [
    "<a id='Sex'></a>\n",
    "## 'Sex' variable\n",
    "### Recoding to binary"
   ]
  },
  {
   "cell_type": "code",
   "execution_count": 7,
   "metadata": {},
   "outputs": [],
   "source": [
    "#Change Sex variable to 1 for female, 0 for male\n",
    "for Dataset in Datasets:\n",
    "    Dataset['Sex']=Dataset['Sex'].replace('female',1)\n",
    "    Dataset['Sex']=Dataset['Sex'].replace('male',0)"
   ]
  },
  {
   "cell_type": "markdown",
   "metadata": {},
   "source": [
    "### Visualizing survival across sexes"
   ]
  },
  {
   "cell_type": "code",
   "execution_count": 8,
   "metadata": {},
   "outputs": [
    {
     "data": {
      "text/plain": [
       "<matplotlib.legend.Legend at 0x17a9db78700>"
      ]
     },
     "execution_count": 8,
     "metadata": {},
     "output_type": "execute_result"
    },
    {
     "data": {
      "image/png": "[encoded data removed]",
      "text/plain": [
       "<Figure size 432x288 with 1 Axes>"
      ]
     },
     "metadata": {
      "needs_background": "light"
     },
     "output_type": "display_data"
    }
   ],
   "source": [
    "ax=sns.countplot(x=Train_full['Sex'],data=Train_full, hue='Survived', palette='viridis')\n",
    "ax.set_title('Survival across sexes', fontsize=15)\n",
    "ax.set_xlabel(\"Sex\",fontsize=15)\n",
    "ax.set_ylabel(\"Count\", fontsize=15)\n",
    "ax.set_yticklabels(ax.get_yticks(), size = 15)\n",
    "ax.set_xticklabels(['Male','Female'], size = 15)\n",
    "ax.legend(fontsize=10, title=\"Survived\")"
   ]
  },
  {
   "cell_type": "markdown",
   "metadata": {},
   "source": [
    "Sex seems to be the clearest indicator of survival"
   ]
  },
  {
   "cell_type": "markdown",
   "metadata": {},
   "source": [
    "### 'Women & Upper class variable'\n",
    "Women tend to have survived more. Perhaps the rate of survival is more among upper class women who might have gotten priority during evacuation"
   ]
  },
  {
   "cell_type": "code",
   "execution_count": 9,
   "metadata": {},
   "outputs": [
    {
     "data": {
      "text/plain": [
       "Text(0.5, 1.0, 'Survival across women of different status')"
      ]
     },
     "execution_count": 9,
     "metadata": {},
     "output_type": "execute_result"
    },
    {
     "data": {
      "image/png": "[encoded data removed]",
      "text/plain": [
       "<Figure size 432x288 with 1 Axes>"
      ]
     },
     "metadata": {
      "needs_background": "light"
     },
     "output_type": "display_data"
    }
   ],
   "source": [
    "Train_full['Woman&UpperClass']=0\n",
    "Train_full.loc[(Train_full['Sex']==1) & (Train_full['Pclass']==1),'Woman&UpperClass']=1\n",
    "Test_full['Woman&UpperClass']=0\n",
    "Test_full.loc[(Test_full['Sex']==1) & (Test_full['Pclass']==1),'Woman&UpperClass']=1\n",
    "\n",
    "ax=sns.countplot(x=Train_full['Woman&UpperClass'],data=Train_full,hue='Survived',palette='mako')\n",
    "ax.set_xticklabels(['Non-Upper class woman','Upperclass Woman'])\n",
    "ax.set_xlabel(\"\")\n",
    "ax.set_title(\"Survival across women of different status\")"
   ]
  },
  {
   "cell_type": "markdown",
   "metadata": {},
   "source": [
    "<a id='Pclass'></a>\n",
    "## 'Pclass' variable\n",
    "### Visualizing survival across different socio-economic classes"
   ]
  },
  {
   "cell_type": "code",
   "execution_count": 10,
   "metadata": {},
   "outputs": [
    {
     "data": {
      "text/plain": [
       "<AxesSubplot:xlabel='Pclass', ylabel='count'>"
      ]
     },
     "execution_count": 10,
     "metadata": {},
     "output_type": "execute_result"
    },
    {
     "data": {
      "image/png": "[encoded data removed]",
      "text/plain": [
       "<Figure size 432x288 with 1 Axes>"
      ]
     },
     "metadata": {
      "needs_background": "light"
     },
     "output_type": "display_data"
    }
   ],
   "source": [
    "sns.countplot(x=Train_full['Pclass'],hue='Survived',data=Train_full,palette='crest')"
   ]
  },
  {
   "cell_type": "markdown",
   "metadata": {},
   "source": [
    "<a id='Emb'></a>\n",
    "## 'Embarked' variable\n",
    "### Visualizing survival against port of embarkment"
   ]
  },
  {
   "cell_type": "code",
   "execution_count": 11,
   "metadata": {},
   "outputs": [
    {
     "data": {
      "image/png": "[encoded data removed]",
      "text/plain": [
       "<Figure size 432x288 with 1 Axes>"
      ]
     },
     "metadata": {
      "needs_background": "light"
     },
     "output_type": "display_data"
    }
   ],
   "source": [
    "ax=sns.countplot(x=Train_full['Embarked'],data=Train_full, hue='Survived', palette='viridis')\n",
    "ax.set_title('Embarked', fontsize=15)\n",
    "ax.set_xlabel('Embarked',fontsize=15)\n",
    "ax.set_ylabel(\"Count\", fontsize=15)\n",
    "ax.set_yticklabels(ax.get_yticks(), size = 10)\n",
    "\n",
    "ax.legend(fontsize=15, title=\"Survived\")\n",
    "plt.show()"
   ]
  },
  {
   "cell_type": "markdown",
   "metadata": {},
   "source": [
    "### Create dummies for the Embarked column"
   ]
  },
  {
   "cell_type": "code",
   "execution_count": 12,
   "metadata": {},
   "outputs": [],
   "source": [
    "Train_full=pd.get_dummies(Train_full, columns=['Embarked'],prefix=['Embarked'])\n",
    "Test_full=pd.get_dummies(Test_full, columns=['Embarked'],prefix=['Embarked'])"
   ]
  },
  {
   "cell_type": "markdown",
   "metadata": {},
   "source": [
    "<a id='Fare'></a>\n",
    "## 'Fare' variable\n",
    "### Distribution of Fare rates by survival"
   ]
  },
  {
   "cell_type": "code",
   "execution_count": 13,
   "metadata": {},
   "outputs": [
    {
     "data": {
      "image/png": "[encoded data removed]",
      "text/plain": [
       "<Figure size 432x288 with 1 Axes>"
      ]
     },
     "metadata": {
      "needs_background": "light"
     },
     "output_type": "display_data"
    }
   ],
   "source": [
    "plt.hist(x = [Train_full[Train_full['Survived']==1]['Fare'], Train_full[Train_full['Survived']==0]['Fare']], \n",
    "         stacked=True, color = ['g','r'],label = ['Survived','Dead'],bins=40,align='left')\n",
    "plt.title('Fare : Histogram stacked by survival', fontsize=15)\n",
    "plt.xlabel('Fare (Dollars)',fontsize=10)\n",
    "plt.ylabel('# of Passengers',fontsize=10)\n",
    "plt.legend()\n",
    "plt.xticks(range(0,500,50))\n",
    "plt.show()"
   ]
  },
  {
   "cell_type": "markdown",
   "metadata": {},
   "source": [
    "### Creating Fare <=50 variable\n",
    "From the stacked histogram, it seems that a higher proportion of those who bought expensive tickets survived"
   ]
  },
  {
   "cell_type": "code",
   "execution_count": 14,
   "metadata": {},
   "outputs": [],
   "source": [
    "#Fare=50 as a cutting point\n",
    "Train_full['Fare_less50']=0\n",
    "Train_full.loc[Train_full['Fare']<=50, 'Fare_less50'] = 1\n",
    "\n",
    "Test_full['Fare_less50']=0\n",
    "Test_full.loc[Test_full['Fare']<=50, 'Fare_less50'] = 1"
   ]
  },
  {
   "cell_type": "markdown",
   "metadata": {},
   "source": [
    "<a id='Age'></a>\n",
    "## 'Age' variable"
   ]
  },
  {
   "cell_type": "markdown",
   "metadata": {},
   "source": [
    "### Can missing values itself be an indicator?\n",
    "It is likely that data is missing for passengers that are dead compared to those alive. Along the way, I will be creating 'feature missing' dummy variables e.g. An 'Age Missing' column. This will also be done for 'Cabin' Variable later on"
   ]
  },
  {
   "cell_type": "code",
   "execution_count": 15,
   "metadata": {},
   "outputs": [],
   "source": [
    "#Creating an age missing column\n",
    "\n",
    "Train_full['Age Missing']=0\n",
    "Train_full.loc[Train_full['Age'].isna(), 'Age Missing'] = 1\n",
    "\n",
    "Test_full['Age Missing']=0\n",
    "Test_full.loc[Test_full['Age'].isna(), 'Age Missing'] = 1\n",
    "\n",
    "# Filling in missing values for Age\n",
    "Train_full['Age'].fillna(Train_full['Age'].median(),inplace=True) #Both median and mean are close to each other\n",
    "Test_full['Age'].fillna(Test_full['Age'].median(),inplace=True) #Both median and mean are close to each other"
   ]
  },
  {
   "cell_type": "markdown",
   "metadata": {},
   "source": [
    "### Visualizing distribution of age against survival"
   ]
  },
  {
   "cell_type": "code",
   "execution_count": 16,
   "metadata": {
    "scrolled": true
   },
   "outputs": [
    {
     "data": {
      "image/png": "[encoded data removed]",
      "text/plain": [
       "<Figure size 432x288 with 1 Axes>"
      ]
     },
     "metadata": {
      "needs_background": "light"
     },
     "output_type": "display_data"
    }
   ],
   "source": [
    "# plt.rc('figure',figsize = (15,5))\n",
    "plt.hist(x = [Train_full[Train_full['Survived']==1]['Age'], Train_full[Train_full['Survived']==0]['Age']], \n",
    "         stacked=True, color = ['b','r'],label = ['Survived','Dead'],bins=20,align='left')\n",
    "plt.title('Age : Stacked Histogram by Survival', fontsize=15)\n",
    "plt.xlabel('Age (Years)')\n",
    "plt.ylabel('# of Passengers')\n",
    "#plt.xticks(range(0,80,10))\n",
    "plt.legend()\n",
    "plt.show()"
   ]
  },
  {
   "cell_type": "markdown",
   "metadata": {},
   "source": [
    "No particular pattern is seen in how the distribution of age affects survival. It seems that a higher proportion of children (esspecially those under 5) seem to survive.\n",
    "### Visualizing suvival across 'Age Missing'"
   ]
  },
  {
   "cell_type": "code",
   "execution_count": 17,
   "metadata": {},
   "outputs": [
    {
     "data": {
      "text/plain": [
       "<matplotlib.legend.Legend at 0x17a9dfc3940>"
      ]
     },
     "execution_count": 17,
     "metadata": {},
     "output_type": "execute_result"
    },
    {
     "data": {
      "image/png": "[encoded data removed]",
      "text/plain": [
       "<Figure size 432x288 with 1 Axes>"
      ]
     },
     "metadata": {
      "needs_background": "light"
     },
     "output_type": "display_data"
    }
   ],
   "source": [
    "ax=sns.countplot(x=Train_full['Age Missing'],data=Train_full,hue='Survived',palette='rocket')\n",
    "ax.set_title('Age Missing', fontsize=14)\n",
    "ax.set_xlabel(\"\")\n",
    "ax.set_ylabel(\"Count\", fontsize=14)\n",
    "ax.set_yticklabels(ax.get_yticks(), size = 10)\n",
    "ax.set_xticklabels(['Not missing','Missing'], size = 10)\n",
    "ax.legend(fontsize=10, title=\"Survived\")"
   ]
  },
  {
   "cell_type": "markdown",
   "metadata": {},
   "source": [
    "No distinct patterns seen"
   ]
  },
  {
   "cell_type": "markdown",
   "metadata": {},
   "source": [
    "### Creating an 'IsChild' dummy variable with cutoff of 16 years\n",
    "The Titanic followed a 'Women and Children first' rule during evacuation, which led to a larger proportion of them surviving. In the Age histogram above, the proportion of childern (towards the left of 20 yr mark) surviving is  much higher"
   ]
  },
  {
   "cell_type": "code",
   "execution_count": 18,
   "metadata": {},
   "outputs": [
    {
     "data": {
      "text/plain": [
       "Text(0.5, 1.0, 'Survival across children')"
      ]
     },
     "execution_count": 18,
     "metadata": {},
     "output_type": "execute_result"
    },
    {
     "data": {
      "image/png": "[encoded data removed]",
      "text/plain": [
       "<Figure size 432x288 with 1 Axes>"
      ]
     },
     "metadata": {
      "needs_background": "light"
     },
     "output_type": "display_data"
    }
   ],
   "source": [
    "Train_full['IsChild']=0\n",
    "Train_full.loc[Train_full['Age']<16,'IsChild']=1\n",
    "Test_full['IsChild']=0\n",
    "Test_full.loc[Test_full['Age']<16,'IsChild']=1 #The number 16 is an arbitrary cutoff\n",
    "\n",
    "ax=sns.countplot(x=Train_full['IsChild'],data=Train_full,hue='Survived',palette='mako')\n",
    "ax.set_xticklabels(['Above 16 - Adults','Children'])\n",
    "ax.set_xlabel(\"\")\n",
    "ax.set_title(\"Survival across children\")"
   ]
  },
  {
   "cell_type": "markdown",
   "metadata": {},
   "source": [
    "Children seem to have a slightly higher survival rate"
   ]
  },
  {
   "cell_type": "markdown",
   "metadata": {},
   "source": [
    "<a id='Cabin'></a>\n",
    "## 'Cabin' variable\n",
    "### Create Cabin_Missing variable\n",
    "Like Age, the missing data itself could indicate death or survival"
   ]
  },
  {
   "cell_type": "code",
   "execution_count": 19,
   "metadata": {},
   "outputs": [],
   "source": [
    "Train_full['Cabin Missing']=0\n",
    "Train_full.loc[Train_full['Cabin'].isna(), 'Cabin Missing'] = 1\n",
    "Test_full['Cabin Missing']=0\n",
    "Test_full.loc[Test_full['Cabin'].isna(), 'Cabin Missing'] = 1\n",
    "\n",
    "Train_full['Cabin'].fillna(\"Missing\",inplace=True)\n",
    "Test_full['Cabin'].fillna(\"Missing\",inplace=True)"
   ]
  },
  {
   "cell_type": "markdown",
   "metadata": {},
   "source": [
    "### Visualizing survival based on missing cabin data"
   ]
  },
  {
   "cell_type": "code",
   "execution_count": 20,
   "metadata": {},
   "outputs": [
    {
     "data": {
      "text/plain": [
       "<matplotlib.legend.Legend at 0x17a9e0884f0>"
      ]
     },
     "execution_count": 20,
     "metadata": {},
     "output_type": "execute_result"
    },
    {
     "data": {
      "image/png": "[encoded data removed]",
      "text/plain": [
       "<Figure size 432x288 with 1 Axes>"
      ]
     },
     "metadata": {
      "needs_background": "light"
     },
     "output_type": "display_data"
    }
   ],
   "source": [
    "ax=sns.countplot(x=Train_full['Cabin Missing'],data=Train_full, hue='Survived', palette='viridis')\n",
    "ax.set_title('Survival count based on Cabin Missing', fontsize=14)\n",
    "ax.set_xlabel(\"Cabin Missing\",fontsize=14)\n",
    "ax.set_ylabel(\"Count\", fontsize=14)\n",
    "ax.set_yticklabels(ax.get_yticks(), size = 10)\n",
    "ax.set_xticklabels(['Not missing','Missing'], size = 10)\n",
    "ax.legend(fontsize=10, title=\"Survived\")"
   ]
  },
  {
   "cell_type": "markdown",
   "metadata": {},
   "source": [
    "### Dummy variable for each cabin letter"
   ]
  },
  {
   "cell_type": "code",
   "execution_count": 21,
   "metadata": {},
   "outputs": [],
   "source": [
    "Letters=['A','B','C','D','E','F','G']\n",
    "\n",
    "for letter in Letters:\n",
    "    Train_full.loc[Train_full['Cabin'].str.contains(letter), 'Cabin']=letter\n",
    "    Test_full.loc[Test_full['Cabin'].str.contains(letter), 'Cabin']=letter\n",
    "    Train_full[letter]=Train_full['Cabin'].str.contains(letter)\n",
    "    Train_full[letter].fillna(False,inplace=True)\n",
    "    Test_full[letter]=Test_full['Cabin'].str.contains(letter)\n",
    "    Test_full[letter].fillna(False,inplace=True)"
   ]
  },
  {
   "cell_type": "markdown",
   "metadata": {},
   "source": [
    "### Visualizing survival across each cabin"
   ]
  },
  {
   "cell_type": "code",
   "execution_count": 22,
   "metadata": {},
   "outputs": [
    {
     "data": {
      "text/plain": [
       "<matplotlib.legend.Legend at 0x17a9e064d90>"
      ]
     },
     "execution_count": 22,
     "metadata": {},
     "output_type": "execute_result"
    },
    {
     "data": {
      "image/png": "[encoded data removed]",
      "text/plain": [
       "<Figure size 432x288 with 1 Axes>"
      ]
     },
     "metadata": {
      "needs_background": "light"
     },
     "output_type": "display_data"
    }
   ],
   "source": [
    "ax=sns.countplot(x=Train_full['Cabin'],data=Train_full, hue='Survived', palette='viridis')\n",
    "ax.set_title('Survival by Cabin letter', fontsize=15)\n",
    "ax.get_xlabel\n",
    "ax.set_ylabel(\"Count\", fontsize=10)\n",
    "ax.legend(fontsize=15, title=\"Survived\")"
   ]
  },
  {
   "cell_type": "markdown",
   "metadata": {},
   "source": [
    "It seems there aren't remarkable differences in survival across each cabin. However, a large number of people missing cabin data seem to have dies"
   ]
  },
  {
   "cell_type": "markdown",
   "metadata": {},
   "source": [
    "<a id='SibSpParch'></a>\n",
    "## 'SibSp', 'Parch' variables\n",
    "\n",
    "SibSp=Number of Siblings or Spouse accompanying the passenger\n",
    "\n",
    "Parch=Number of parents and children accompanying the passenger\n",
    "### Creating 'Is Alone' variable"
   ]
  },
  {
   "cell_type": "code",
   "execution_count": 23,
   "metadata": {},
   "outputs": [],
   "source": [
    "Train_full['IsAlone']=0 \n",
    "Train_full.loc[Train_full['SibSp']+Train_full['Parch']==0, 'IsAlone'] = 1\n",
    "Test_full['IsAlone']=0 \n",
    "Test_full.loc[Test_full['SibSp']+Test_full['Parch']==0, 'IsAlone'] = 1"
   ]
  },
  {
   "cell_type": "markdown",
   "metadata": {},
   "source": [
    "### Visualizing survival based on travelling alone vs accompanied"
   ]
  },
  {
   "cell_type": "code",
   "execution_count": 24,
   "metadata": {},
   "outputs": [
    {
     "data": {
      "text/plain": [
       "<matplotlib.legend.Legend at 0x17a9e17dc40>"
      ]
     },
     "execution_count": 24,
     "metadata": {},
     "output_type": "execute_result"
    },
    {
     "data": {
      "image/png": "[encoded data removed]",
      "text/plain": [
       "<Figure size 432x288 with 1 Axes>"
      ]
     },
     "metadata": {
      "needs_background": "light"
     },
     "output_type": "display_data"
    }
   ],
   "source": [
    "ax=sns.countplot(x=Train_full['IsAlone'],data=Train_full, hue='Survived', palette='rocket')\n",
    "ax.set_title('Survival based on whether travelled alone', fontsize=15)\n",
    "ax.set_xlabel(\"\")\n",
    "# ax.set_ylabel(\"Count\", fontsize=20)\n",
    "ax.set_yticklabels(ax.get_yticks(), size = 10)\n",
    "ax.set_xticklabels(['Not Alone','Is Alone'], size = 15)\n",
    "ax.legend(fontsize=10, title=\"Survived\")"
   ]
  },
  {
   "cell_type": "markdown",
   "metadata": {},
   "source": [
    "From the plot, it seems that those who were not alone had an approximately 50% chance of survival while being alone rapidly decreased the probability of survival.\n",
    "\n",
    "### Create Family Size variable"
   ]
  },
  {
   "cell_type": "code",
   "execution_count": 25,
   "metadata": {},
   "outputs": [],
   "source": [
    "Train_full['FamilySize']=Train_full['SibSp']+Train_full['Parch']\n",
    "Test_full['FamilySize']=Test_full['SibSp']+Test_full['Parch']"
   ]
  },
  {
   "cell_type": "markdown",
   "metadata": {},
   "source": [
    "### Visualize survival based on Family size"
   ]
  },
  {
   "cell_type": "code",
   "execution_count": 26,
   "metadata": {},
   "outputs": [
    {
     "data": {
      "text/plain": [
       "<matplotlib.legend.Legend at 0x17a9e20d9d0>"
      ]
     },
     "execution_count": 26,
     "metadata": {},
     "output_type": "execute_result"
    },
    {
     "data": {
      "image/png": "[encoded data removed]",
      "text/plain": [
       "<Figure size 432x288 with 1 Axes>"
      ]
     },
     "metadata": {
      "needs_background": "light"
     },
     "output_type": "display_data"
    }
   ],
   "source": [
    "ax=sns.countplot(x=Train_full['FamilySize'],data=Train_full, hue='Survived', palette='rocket')\n",
    "ax.set_title('FamilySize', fontsize=15)\n",
    "ax.set_xlabel(\"FamilySize\",fontsize=15)\n",
    "ax.set_yticklabels(ax.get_yticks(), size = 12)\n",
    "ax.set_xticklabels(ax.get_xticks(), size = 15)\n",
    "ax.legend(fontsize=10, title=\"Survived\",title_fontsize=10)\n"
   ]
  },
  {
   "cell_type": "code",
   "execution_count": 27,
   "metadata": {},
   "outputs": [
    {
     "name": "stdout",
     "output_type": "stream",
     "text": [
      "Total number of families of each size \n",
      " 0     537\n",
      "1     161\n",
      "2     102\n",
      "3      29\n",
      "5      22\n",
      "4      15\n",
      "6      12\n",
      "10      7\n",
      "7       6\n",
      "Name: FamilySize, dtype: int64\n"
     ]
    }
   ],
   "source": [
    "print(\"Total number of families of each size \\n\",Train_full['FamilySize'].value_counts())"
   ]
  },
  {
   "cell_type": "markdown",
   "metadata": {},
   "source": [
    "Being alone (family size 0) is already captured by the 'Is Alone' variable. The differences in survival are very small across family sizes 1-3. It seems those who travelled with larger families may have stayed behind on the ship to help their members, as between family sizes 4-8, there are relatively fewer survivors. Hence we make a variable titled 'Fam_Size>4'\n",
    "\n",
    "### Create a 'Family Size>=4 variable'"
   ]
  },
  {
   "cell_type": "code",
   "execution_count": 28,
   "metadata": {},
   "outputs": [],
   "source": [
    "Train_full['Fam_Size>=4']=0 \n",
    "Train_full.loc[Train_full['SibSp']+Train_full['Parch']>=4, 'Fam_Size>=4'] = 1\n",
    "\n",
    "Test_full['Fam_Size>=4']=0 \n",
    "Test_full.loc[Test_full['SibSp']+Test_full['Parch']>=4, 'Fam_Size>=4'] = 1"
   ]
  },
  {
   "cell_type": "code",
   "execution_count": 29,
   "metadata": {},
   "outputs": [
    {
     "data": {
      "text/plain": [
       "Text(0.5, 0, '')"
      ]
     },
     "execution_count": 29,
     "metadata": {},
     "output_type": "execute_result"
    },
    {
     "data": {
      "image/png": "[encoded data removed]",
      "text/plain": [
       "<Figure size 432x288 with 1 Axes>"
      ]
     },
     "metadata": {
      "needs_background": "light"
     },
     "output_type": "display_data"
    }
   ],
   "source": [
    "ax=sns.countplot(x=Train_full['Fam_Size>=4'],data=Train_full,hue='Survived',palette='rocket')\n",
    "ax.set_xticklabels(['Less than 4', \">=4\"],fontsize=10)\n",
    "ax.set_title(\"Fam Size>=4\")\n",
    "ax.set_xlabel(\"\")"
   ]
  },
  {
   "cell_type": "markdown",
   "metadata": {},
   "source": [
    "## 'Name' variable\n",
    "### Survival based on titles found in names\n",
    "Perhaps some groups of people deemed more important were more likely to be saved?"
   ]
  },
  {
   "cell_type": "code",
   "execution_count": 30,
   "metadata": {},
   "outputs": [],
   "source": [
    "\n",
    "Train_full['Title']=\"No Title\"\n",
    "Test_full['Title']=\"No Title\"\n",
    "\n",
    "#Variable for names with brackets\n",
    "Train_full['Mrs.']=Train_full['Name'].str.contains(\"Mrs.\")\n",
    "Test_full['Mrs.']=Test_full['Name'].str.contains(\"Mrs.\")\n",
    "Train_full.loc[Train_full['Mrs.']==True,'Title']= \"Mrs.\"\n",
    "Test_full.loc[Test_full['Mrs.']==True,'Title']= \"Mrs.\"\n",
    "\n",
    "#Variable for names with brackets\n",
    "Train_full['Miss']=Train_full['Name'].str.contains(\"Miss\")\n",
    "Test_full['Miss']=Test_full['Name'].str.contains(\"Miss\")\n",
    "Train_full.loc[Train_full['Miss']==True,'Title']=\"Miss\"\n",
    "Test_full.loc[Test_full['Miss']==True,'Title']=\"Miss\"\n",
    "\n",
    "#Variable for names with brackets\n",
    "Train_full['Master']=Train_full['Name'].str.contains(\"Master\")\n",
    "Test_full['Master']=Test_full['Name'].str.contains(\"Master\")\n",
    "Train_full.loc[Train_full['Master']==True,'Title']=\"Master\"\n",
    "Test_full.loc[Test_full['Master']==True,'Title']=\"Master\"\n",
    "\n",
    "Train_full['Dr']=Train_full['Name'].str.contains(\"Dr\")\n",
    "Test_full['Dr']=Test_full['Name'].str.contains(\"Dr\")\n",
    "Train_full.loc[Train_full['Dr']==True,'Title']=\"Dr\"\n",
    "Test_full.loc[Test_full['Dr']==True,'Title']=\"Dr\"\n",
    "\n",
    "Train_full['Rev.']=Train_full['Name'].str.contains(\"Rev.\")\n",
    "Test_full['Rev.']=Test_full['Name'].str.contains(\"Rev.\")\n",
    "Train_full.loc[Train_full['Rev.']==True,'Title']=\"Rev.\"\n",
    "Test_full.loc[Test_full['Rev.']==True,'Title']=\"Rev.\"\n",
    "\n",
    "Train_full['Mr. ']=Train_full['Name'].str.contains(\"Mr. \")\n",
    "Test_full['Mr. ']=Test_full['Name'].str.contains(\"Mr. \")\n",
    "Train_full.loc[Train_full['Mr. ']==True,'Title']=\"Mr. \"\n",
    "Test_full.loc[Test_full['Mr. ']==True,'Title']=\"Mr. \"\n"
   ]
  },
  {
   "cell_type": "markdown",
   "metadata": {},
   "source": [
    "### Visualizing survival across different titles"
   ]
  },
  {
   "cell_type": "code",
   "execution_count": 31,
   "metadata": {},
   "outputs": [
    {
     "data": {
      "image/png": "[encoded data removed]",
      "text/plain": [
       "<Figure size 432x288 with 1 Axes>"
      ]
     },
     "metadata": {
      "needs_background": "light"
     },
     "output_type": "display_data"
    }
   ],
   "source": [
    "ax=sns.countplot(Train_full['Title'],hue='Survived',data=Train_full,palette='mako')"
   ]
  },
  {
   "cell_type": "markdown",
   "metadata": {},
   "source": [
    "No particular pattern that is different from what is already observed in the survival across sexes chart"
   ]
  },
  {
   "cell_type": "markdown",
   "metadata": {},
   "source": [
    "<a id='Corr'></a>\n",
    "## Correlation matrix"
   ]
  },
  {
   "cell_type": "code",
   "execution_count": 32,
   "metadata": {},
   "outputs": [
    {
     "data": {
      "text/plain": [
       "Survived            1.000000\n",
       "Pclass             -0.338481\n",
       "Sex                 0.543351\n",
       "Age                -0.064910\n",
       "SibSp              -0.035322\n",
       "Parch               0.081629\n",
       "Fare                0.257307\n",
       "Woman&UpperClass    0.412581\n",
       "Embarked_C          0.168240\n",
       "Embarked_Q          0.003650\n",
       "Embarked_S         -0.149683\n",
       "Fare_less50        -0.286113\n",
       "Age Missing        -0.092197\n",
       "IsChild             0.136107\n",
       "Cabin Missing      -0.316912\n",
       "A                   0.022287\n",
       "B                   0.175095\n",
       "C                   0.114652\n",
       "D                   0.150716\n",
       "E                   0.150716\n",
       "F                   0.047930\n",
       "G                   0.016040\n",
       "IsAlone            -0.203367\n",
       "FamilySize          0.016639\n",
       "Fam_Size>=4        -0.125147\n",
       "Mrs.                0.344223\n",
       "Miss                0.327093\n",
       "Master              0.085221\n",
       "Dr                  0.037155\n",
       "Rev.               -0.064988\n",
       "Mr.                -0.543177\n",
       "Name: Survived, dtype: float64"
      ]
     },
     "execution_count": 32,
     "metadata": {},
     "output_type": "execute_result"
    }
   ],
   "source": [
    "Train_full.corr()['Survived']"
   ]
  },
  {
   "cell_type": "markdown",
   "metadata": {},
   "source": [
    "<a id='Drop'></a>\n",
    "## Dropping variables that are no longer needed\n"
   ]
  },
  {
   "cell_type": "code",
   "execution_count": 33,
   "metadata": {},
   "outputs": [],
   "source": [
    "Train_full.drop(['Cabin','Name','Title','Ticket','SibSp','Parch'],axis=1,inplace=True)\n",
    "Test_full.drop(['Cabin','Name','Title','Ticket','SibSp','Parch'],axis=1,inplace=True)"
   ]
  },
  {
   "cell_type": "code",
   "execution_count": 34,
   "metadata": {},
   "outputs": [
    {
     "data": {
      "text/plain": [
       "Index(['Survived', 'Pclass', 'Sex', 'Age', 'Fare', 'Woman&UpperClass',\n",
       "       'Embarked_C', 'Embarked_Q', 'Embarked_S', 'Fare_less50', 'Age Missing',\n",
       "       'IsChild', 'Cabin Missing', 'A', 'B', 'C', 'D', 'E', 'F', 'G',\n",
       "       'IsAlone', 'FamilySize', 'Fam_Size>=4', 'Mrs.', 'Miss', 'Master', 'Dr',\n",
       "       'Rev.', 'Mr. '],\n",
       "      dtype='object')"
      ]
     },
     "execution_count": 34,
     "metadata": {},
     "output_type": "execute_result"
    }
   ],
   "source": [
    "Train_full.columns"
   ]
  },
  {
   "cell_type": "code",
   "execution_count": 35,
   "metadata": {},
   "outputs": [],
   "source": [
    "FeatureList=['Pclass', 'Name', 'Sex', 'Age',\n",
    "       'Fare', 'Woman&UpperClass', 'Embarked_C', 'Embarked_Q',\n",
    "       'Embarked_S', 'Age Missing', 'IsChild', 'Cabin Missing', 'A', 'B', 'C',\n",
    "       'D', 'E', 'F', 'G', 'IsAlone', 'FamilySize', 'Fam_Size>=4', 'Title',\n",
    "       'Mrs.', 'Miss', 'Master', 'Dr', 'Rev.', 'Mr. ']"
   ]
  },
  {
   "cell_type": "code",
   "execution_count": 36,
   "metadata": {},
   "outputs": [
    {
     "data": {
      "text/html": [
       "<div>\n",
       "<style scoped>\n",
       "    .dataframe tbody tr th:only-of-type {\n",
       "        vertical-align: middle;\n",
       "    }\n",
       "\n",
       "    .dataframe tbody tr th {\n",
       "        vertical-align: top;\n",
       "    }\n",
       "\n",
       "    .dataframe thead th {\n",
       "        text-align: right;\n",
       "    }\n",
       "</style>\n",
       "<table border=\"1\" class=\"dataframe\">\n",
       "  <thead>\n",
       "    <tr style=\"text-align: right;\">\n",
       "      <th></th>\n",
       "      <th>Survived</th>\n",
       "      <th>Pclass</th>\n",
       "      <th>Sex</th>\n",
       "      <th>Age</th>\n",
       "      <th>Fare</th>\n",
       "      <th>Woman&amp;UpperClass</th>\n",
       "      <th>Embarked_C</th>\n",
       "      <th>Embarked_Q</th>\n",
       "      <th>Embarked_S</th>\n",
       "      <th>Fare_less50</th>\n",
       "      <th>...</th>\n",
       "      <th>G</th>\n",
       "      <th>IsAlone</th>\n",
       "      <th>FamilySize</th>\n",
       "      <th>Fam_Size&gt;=4</th>\n",
       "      <th>Mrs.</th>\n",
       "      <th>Miss</th>\n",
       "      <th>Master</th>\n",
       "      <th>Dr</th>\n",
       "      <th>Rev.</th>\n",
       "      <th>Mr.</th>\n",
       "    </tr>\n",
       "    <tr>\n",
       "      <th>PassengerId</th>\n",
       "      <th></th>\n",
       "      <th></th>\n",
       "      <th></th>\n",
       "      <th></th>\n",
       "      <th></th>\n",
       "      <th></th>\n",
       "      <th></th>\n",
       "      <th></th>\n",
       "      <th></th>\n",
       "      <th></th>\n",
       "      <th></th>\n",
       "      <th></th>\n",
       "      <th></th>\n",
       "      <th></th>\n",
       "      <th></th>\n",
       "      <th></th>\n",
       "      <th></th>\n",
       "      <th></th>\n",
       "      <th></th>\n",
       "      <th></th>\n",
       "      <th></th>\n",
       "    </tr>\n",
       "  </thead>\n",
       "  <tbody>\n",
       "    <tr>\n",
       "      <th>353</th>\n",
       "      <td>0</td>\n",
       "      <td>3</td>\n",
       "      <td>0</td>\n",
       "      <td>15.0</td>\n",
       "      <td>7.2292</td>\n",
       "      <td>0</td>\n",
       "      <td>1</td>\n",
       "      <td>0</td>\n",
       "      <td>0</td>\n",
       "      <td>1</td>\n",
       "      <td>...</td>\n",
       "      <td>False</td>\n",
       "      <td>0</td>\n",
       "      <td>2</td>\n",
       "      <td>0</td>\n",
       "      <td>False</td>\n",
       "      <td>False</td>\n",
       "      <td>False</td>\n",
       "      <td>False</td>\n",
       "      <td>False</td>\n",
       "      <td>True</td>\n",
       "    </tr>\n",
       "    <tr>\n",
       "      <th>788</th>\n",
       "      <td>0</td>\n",
       "      <td>3</td>\n",
       "      <td>0</td>\n",
       "      <td>8.0</td>\n",
       "      <td>29.1250</td>\n",
       "      <td>0</td>\n",
       "      <td>0</td>\n",
       "      <td>1</td>\n",
       "      <td>0</td>\n",
       "      <td>1</td>\n",
       "      <td>...</td>\n",
       "      <td>False</td>\n",
       "      <td>0</td>\n",
       "      <td>5</td>\n",
       "      <td>1</td>\n",
       "      <td>False</td>\n",
       "      <td>False</td>\n",
       "      <td>True</td>\n",
       "      <td>False</td>\n",
       "      <td>False</td>\n",
       "      <td>False</td>\n",
       "    </tr>\n",
       "    <tr>\n",
       "      <th>246</th>\n",
       "      <td>0</td>\n",
       "      <td>1</td>\n",
       "      <td>0</td>\n",
       "      <td>44.0</td>\n",
       "      <td>90.0000</td>\n",
       "      <td>0</td>\n",
       "      <td>0</td>\n",
       "      <td>1</td>\n",
       "      <td>0</td>\n",
       "      <td>0</td>\n",
       "      <td>...</td>\n",
       "      <td>False</td>\n",
       "      <td>0</td>\n",
       "      <td>2</td>\n",
       "      <td>0</td>\n",
       "      <td>False</td>\n",
       "      <td>False</td>\n",
       "      <td>False</td>\n",
       "      <td>True</td>\n",
       "      <td>False</td>\n",
       "      <td>False</td>\n",
       "    </tr>\n",
       "  </tbody>\n",
       "</table>\n",
       "<p>3 rows × 29 columns</p>\n",
       "</div>"
      ],
      "text/plain": [
       "             Survived  Pclass  Sex   Age     Fare  Woman&UpperClass  \\\n",
       "PassengerId                                                           \n",
       "353                 0       3    0  15.0   7.2292                 0   \n",
       "788                 0       3    0   8.0  29.1250                 0   \n",
       "246                 0       1    0  44.0  90.0000                 0   \n",
       "\n",
       "             Embarked_C  Embarked_Q  Embarked_S  Fare_less50  ...      G  \\\n",
       "PassengerId                                                   ...          \n",
       "353                   1           0           0            1  ...  False   \n",
       "788                   0           1           0            1  ...  False   \n",
       "246                   0           1           0            0  ...  False   \n",
       "\n",
       "             IsAlone  FamilySize  Fam_Size>=4   Mrs.   Miss  Master     Dr  \\\n",
       "PassengerId                                                                  \n",
       "353                0           2            0  False  False   False  False   \n",
       "788                0           5            1  False  False    True  False   \n",
       "246                0           2            0  False  False   False   True   \n",
       "\n",
       "              Rev.   Mr.   \n",
       "PassengerId                \n",
       "353          False   True  \n",
       "788          False  False  \n",
       "246          False  False  \n",
       "\n",
       "[3 rows x 29 columns]"
      ]
     },
     "execution_count": 36,
     "metadata": {},
     "output_type": "execute_result"
    }
   ],
   "source": [
    "Train_full.sample(3)"
   ]
  },
  {
   "cell_type": "markdown",
   "metadata": {},
   "source": [
    "<a id='Train'></a>\n",
    "## Train-test split"
   ]
  },
  {
   "cell_type": "code",
   "execution_count": 37,
   "metadata": {},
   "outputs": [],
   "source": [
    "\n",
    "#Separating target variable\n",
    "Y=Train_full.Survived\n",
    "\n",
    "#Separating features from target\n",
    "X=Train_full.drop('Survived',axis=1)\n",
    "\n",
    "\n",
    "#Separating training and testing data\n",
    "from sklearn.model_selection import train_test_split\n",
    "X_train, X_valid, Y_train, Y_valid=train_test_split(X,Y,train_size=0.7,test_size=0.3,stratify=Y,random_state=9)"
   ]
  },
  {
   "cell_type": "markdown",
   "metadata": {},
   "source": [
    "<a id='Mod'></a>\n",
    "# Modelling"
   ]
  },
  {
   "cell_type": "markdown",
   "metadata": {},
   "source": [
    "## Metrics"
   ]
  },
  {
   "cell_type": "code",
   "execution_count": 38,
   "metadata": {},
   "outputs": [],
   "source": [
    "#Function to measure accuracy and MAE of a model\n",
    "\n",
    "from sklearn.metrics import mean_absolute_error, accuracy_score\n",
    "\n",
    "from sklearn.model_selection import cross_val_score"
   ]
  },
  {
   "cell_type": "markdown",
   "metadata": {},
   "source": [
    "<a id='RF'></a>\n",
    "## Model 1: Random Forest"
   ]
  },
  {
   "cell_type": "code",
   "execution_count": 39,
   "metadata": {},
   "outputs": [
    {
     "name": "stdout",
     "output_type": "stream",
     "text": [
      "0.8305379448873266\n"
     ]
    }
   ],
   "source": [
    "from sklearn.ensemble import RandomForestClassifier\n",
    "\n",
    "\n",
    "model_1=RandomForestClassifier(random_state=13,n_estimators=1500,bootstrap=True,\n",
    "                               max_depth=8,max_features='auto',min_samples_leaf=3)\n",
    "\n",
    "#Print average cross validation score\n",
    "print((cross_val_score(model_1,X=X,y=Y,scoring='accuracy',n_jobs=-1)).mean())"
   ]
  },
  {
   "cell_type": "markdown",
   "metadata": {},
   "source": [
    "<a id='RFGSCV'></a>\n",
    "### Grid Search for hyperparameter tuning"
   ]
  },
  {
   "cell_type": "code",
   "execution_count": 40,
   "metadata": {},
   "outputs": [],
   "source": [
    "from sklearn.model_selection import GridSearchCV"
   ]
  },
  {
   "cell_type": "code",
   "execution_count": 41,
   "metadata": {},
   "outputs": [
    {
     "name": "stdout",
     "output_type": "stream",
     "text": [
      "{'bootstrap': True, 'max_depth': 7, 'max_features': 'auto', 'max_leaf_nodes': 8, 'min_samples_leaf': 1, 'min_samples_split': 2, 'n_estimators': 2000}\n"
     ]
    }
   ],
   "source": [
    "#  Using Grid Search to find the best parameters with Random Forest\n",
    "model=RandomForestClassifier(random_state=1)\n",
    "\n",
    "#Parameter range for the search grid\n",
    "n_estimators=[2000]\n",
    "max_features= ['auto']\n",
    "max_depth=[5,7,9]\n",
    "max_depth.append(None)\n",
    "min_samples_split=[2,3,4]\n",
    "min_samples_leaf = [1,2,3]\n",
    "bootstrap = [True,False]\n",
    "max_leaf_nodes=[4,6,8]\n",
    "\n",
    "\n",
    "search_grid={'n_estimators': n_estimators,\n",
    "               'max_features': max_features,\n",
    "               'max_depth': max_depth,\n",
    "               'min_samples_split': min_samples_split,\n",
    "               'min_samples_leaf': min_samples_leaf,\n",
    "               'bootstrap': bootstrap,\n",
    "             'max_leaf_nodes':max_leaf_nodes}\n",
    "\n",
    "#Instantiating Randomized Search CV\n",
    "model_Grid= GridSearchCV(estimator = model,\n",
    "                                param_grid= search_grid,  cv = 3, verbose=0,  n_jobs = -1)\n",
    "model_Grid.fit(X,Y)\n",
    "\n",
    "#Printing the best parameters found\n",
    "print(model_Grid.best_params_)"
   ]
  },
  {
   "cell_type": "code",
   "execution_count": 42,
   "metadata": {},
   "outputs": [
    {
     "name": "stdout",
     "output_type": "stream",
     "text": [
      "0.8293892411022534\n"
     ]
    }
   ],
   "source": [
    "# Accuracy score of the model using best parameters\n",
    "model_1=RandomForestClassifier(random_state=13)\n",
    "model_1.set_params(**model_Grid.best_params_)\n",
    "print((cross_val_score(model_1,X,Y)).mean())"
   ]
  },
  {
   "cell_type": "markdown",
   "metadata": {},
   "source": [
    "<a id='XGB'></a>\n",
    "## Model 2: XGBoost"
   ]
  },
  {
   "cell_type": "code",
   "execution_count": 43,
   "metadata": {},
   "outputs": [
    {
     "data": {
      "text/plain": [
       "0.8097014925373134"
      ]
     },
     "execution_count": 43,
     "metadata": {},
     "output_type": "execute_result"
    }
   ],
   "source": [
    "\n",
    "from xgboost import XGBClassifier\n",
    "\n",
    "model_2=XGBClassifier(n_estimators=10000,learning_rate=0.3,min_child_weight=1,max_depth=6,subsample=1)\n",
    "\n",
    "model_2.fit(X_train,Y_train,early_stopping_rounds=6,eval_set=[(X_valid,Y_valid)],verbose=0,eval_metric='error')\n",
    "\n",
    "accuracy_score(y_pred=model_2.predict(X_valid),y_true=Y_valid)"
   ]
  },
  {
   "cell_type": "markdown",
   "metadata": {},
   "source": [
    "<a id='XGBGSCV'></a>\n",
    "### Hyperparameter tuning"
   ]
  },
  {
   "cell_type": "code",
   "execution_count": 44,
   "metadata": {},
   "outputs": [],
   "source": [
    "%%capture --no-stderr \n",
    "#Magic command to supress messages\n",
    "\n",
    "from sklearn.model_selection import StratifiedKFold\n",
    "\n",
    "model=XGBClassifier()\n",
    "skf=StratifiedKFold(n_splits=3,shuffle=True,random_state=1)\n",
    "\n",
    "\n",
    "# A list of parameter value ranges\n",
    "n_estimators=[10000]\n",
    "learning_rate=[x for x in np.linspace(start=0.03,stop=0.1,num=4)]\n",
    "early_stopping_rounds=[4,8]\n",
    "max_depth=[5,6,7,None]\n",
    "min_child_weight=[1]\n",
    "subsample=[0.9,1]\n",
    "eval_metric=['error']\n",
    "\n",
    "Grid={'n_estimators':n_estimators,'learning_rate':learning_rate,'early_stopping_rounds':early_stopping_rounds,\n",
    "            'max_depth':max_depth,'min_child_weight': min_child_weight,'subsample':subsample,\n",
    "               'eval_metric': eval_metric, 'verbose':[0]}\n",
    "\n",
    "model_Grid=GridSearchCV(model,param_grid=Grid,cv=skf.split(X,Y),verbose=0,scoring='accuracy',n_jobs=-1)\n",
    "\n",
    "model_Grid.fit(X,Y)"
   ]
  },
  {
   "cell_type": "code",
   "execution_count": 45,
   "metadata": {},
   "outputs": [
    {
     "name": "stdout",
     "output_type": "stream",
     "text": [
      "{'early_stopping_rounds': 4, 'eval_metric': 'error', 'learning_rate': 0.03, 'max_depth': 7, 'min_child_weight': 1, 'n_estimators': 10000, 'subsample': 1, 'verbose': 0}\n",
      "[23:07:45] WARNING: ..\\src\\learner.cc:541: \n",
      "Parameters: { early_stopping_rounds, verbose } might not be used.\n",
      "\n",
      "  This may not be accurate due to some parameters are only used in language bindings but\n",
      "  passed down to XGBoost core.  Or some parameters are not used but slip through this\n",
      "  verification. Please open an issue if you find above cases.\n",
      "\n",
      "\n"
     ]
    },
    {
     "data": {
      "text/plain": [
       "0.8022388059701493"
      ]
     },
     "execution_count": 45,
     "metadata": {},
     "output_type": "execute_result"
    }
   ],
   "source": [
    "print(model_Grid.best_params_)\n",
    "model_2=XGBClassifier()\n",
    "model_2.set_params(**model_Grid.best_params_)\n",
    "model_2.fit(X_train,Y_train)\n",
    "accuracy_score(y_pred=model_2.predict(X_valid),y_true=Y_valid)"
   ]
  },
  {
   "cell_type": "markdown",
   "metadata": {},
   "source": [
    "Both Random Forest and XGB seem to have insignificant improvements with parameter tuning. Random Forest seems to be the better model in terms of accuracy"
   ]
  },
  {
   "cell_type": "markdown",
   "metadata": {},
   "source": [
    "<a id='CF'></a>\n",
    "## Plotting confusion matrix for both models\n",
    "\n",
    "How many false positives and false negatives with each model?"
   ]
  },
  {
   "cell_type": "code",
   "execution_count": 46,
   "metadata": {},
   "outputs": [
    {
     "name": "stdout",
     "output_type": "stream",
     "text": [
      "Model  1 \n",
      "\n"
     ]
    },
    {
     "data": {
      "image/png": "[encoded data removed]",
      "text/plain": [
       "<Figure size 432x288 with 2 Axes>"
      ]
     },
     "metadata": {
      "needs_background": "light"
     },
     "output_type": "display_data"
    },
    {
     "name": "stdout",
     "output_type": "stream",
     "text": [
      "\n",
      "Model  2 \n",
      "\n"
     ]
    },
    {
     "data": {
      "image/png": "[encoded data removed]",
      "text/plain": [
       "<Figure size 432x288 with 2 Axes>"
      ]
     },
     "metadata": {
      "needs_background": "light"
     },
     "output_type": "display_data"
    },
    {
     "name": "stdout",
     "output_type": "stream",
     "text": [
      "\n"
     ]
    }
   ],
   "source": [
    "model_1.fit(X_train,Y_train)\n",
    "Models=[model_1,model_2]\n",
    "from sklearn.metrics import plot_confusion_matrix\n",
    "\n",
    "for i,model in enumerate(Models):\n",
    "    print(\"Model \",i+1,\"\\n\")\n",
    "    plot_confusion_matrix(model,X_valid,Y_valid)\n",
    "    plt.show()\n",
    "    print()"
   ]
  },
  {
   "cell_type": "markdown",
   "metadata": {},
   "source": [
    "<a id='FI'></a>\n",
    "## Feature importance for Random Forest\n",
    "Which features were most useful in predicting? Although it is unnecessary to drop 'unimportant' features. Tree based methods always ensure that the features with the best classification ability (i.e. features that lead to 'leaves' with the least impurity) are always automatically selected"
   ]
  },
  {
   "cell_type": "code",
   "execution_count": 47,
   "metadata": {
    "scrolled": true
   },
   "outputs": [
    {
     "data": {
      "image/png": "[encoded data removed]",
      "text/plain": [
       "<Figure size 432x288 with 1 Axes>"
      ]
     },
     "metadata": {
      "needs_background": "light"
     },
     "output_type": "display_data"
    }
   ],
   "source": [
    "features=X.columns\n",
    "importances=model_1.feature_importances_\n",
    "indices=np.argsort(importances)\n",
    "plt.title('Feature Importances')\n",
    "plt.barh(range(len(indices)), importances[indices], color='b', align='center')\n",
    "plt.yticks(range(len(indices)), [features[i] for i in indices],fontsize=8)\n",
    "plt.xlabel('Relative Importance')\n",
    "\n",
    "plt.show()"
   ]
  },
  {
   "cell_type": "markdown",
   "metadata": {},
   "source": [
    "As expected, Sex is the best feature for classification (this was earlier seen in the visualization as well)"
   ]
  },
  {
   "cell_type": "markdown",
   "metadata": {},
   "source": [
    "<a id='Predict'></a>\n",
    "# Predicting with final model, submission"
   ]
  },
  {
   "cell_type": "code",
   "execution_count": 48,
   "metadata": {},
   "outputs": [
    {
     "data": {
      "text/plain": [
       "RandomForestClassifier(max_depth=7, max_leaf_nodes=8, n_estimators=2000,\n",
       "                       random_state=13)"
      ]
     },
     "execution_count": 48,
     "metadata": {},
     "output_type": "execute_result"
    }
   ],
   "source": [
    "model_1.fit(X,Y)"
   ]
  },
  {
   "cell_type": "code",
   "execution_count": 49,
   "metadata": {},
   "outputs": [
    {
     "data": {
      "text/html": [
       "<div>\n",
       "<style scoped>\n",
       "    .dataframe tbody tr th:only-of-type {\n",
       "        vertical-align: middle;\n",
       "    }\n",
       "\n",
       "    .dataframe tbody tr th {\n",
       "        vertical-align: top;\n",
       "    }\n",
       "\n",
       "    .dataframe thead th {\n",
       "        text-align: right;\n",
       "    }\n",
       "</style>\n",
       "<table border=\"1\" class=\"dataframe\">\n",
       "  <thead>\n",
       "    <tr style=\"text-align: right;\">\n",
       "      <th></th>\n",
       "      <th>PassengerId</th>\n",
       "      <th>Survived</th>\n",
       "    </tr>\n",
       "  </thead>\n",
       "  <tbody>\n",
       "    <tr>\n",
       "      <th>0</th>\n",
       "      <td>892</td>\n",
       "      <td>0</td>\n",
       "    </tr>\n",
       "    <tr>\n",
       "      <th>1</th>\n",
       "      <td>893</td>\n",
       "      <td>1</td>\n",
       "    </tr>\n",
       "    <tr>\n",
       "      <th>2</th>\n",
       "      <td>894</td>\n",
       "      <td>0</td>\n",
       "    </tr>\n",
       "    <tr>\n",
       "      <th>3</th>\n",
       "      <td>895</td>\n",
       "      <td>0</td>\n",
       "    </tr>\n",
       "    <tr>\n",
       "      <th>4</th>\n",
       "      <td>896</td>\n",
       "      <td>1</td>\n",
       "    </tr>\n",
       "  </tbody>\n",
       "</table>\n",
       "</div>"
      ],
      "text/plain": [
       "   PassengerId  Survived\n",
       "0          892         0\n",
       "1          893         1\n",
       "2          894         0\n",
       "3          895         0\n",
       "4          896         1"
      ]
     },
     "execution_count": 49,
     "metadata": {},
     "output_type": "execute_result"
    }
   ],
   "source": [
    "sub_preds = model_1.predict(Test_full)\n",
    "output = pd.DataFrame({'PassengerId': Test_full.index,\n",
    "                       'Survived': sub_preds})\n",
    "output.to_csv('submission.csv',index=False)\n",
    "output.head(5)"
   ]
  },
  {
   "cell_type": "code",
   "execution_count": null,
   "metadata": {},
   "outputs": [],
   "source": []
  }
 ],
 "metadata": {
  "kernelspec": {
   "display_name": "Python 3",
   "language": "python",
   "name": "python3"
  },
  "language_info": {
   "codemirror_mode": {
    "name": "ipython",
    "version": 3
   },
   "file_extension": ".py",
   "mimetype": "text/x-python",
   "name": "python",
   "nbconvert_exporter": "python",
   "pygments_lexer": "ipython3",
   "version": "3.8.8"
  },
  "toc-autonumbering": false,
  "toc-showcode": false,
  "toc-showmarkdowntxt": false,
  "toc-showtags": false
 },
 "nbformat": 4,
 "nbformat_minor": 4
}
