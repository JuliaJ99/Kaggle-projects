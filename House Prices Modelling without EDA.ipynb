{
 "cells": [
  {
   "cell_type": "markdown",
   "metadata": {},
   "source": [
    "This utilizes the following Kaggle dataset https://www.kaggle.com/c/home-data-for-ml-course .\n",
    "In order to predict house prices, a number of variables summarising information about houses is given in the data. I go straight to modelling and do not include EDA. The metric used to rank entries in the competition is the mean squared log error, hence it is the scoring metric used here"
   ]
  },
  {
   "cell_type": "code",
   "execution_count": 194,
   "metadata": {
    "_cell_guid": "b1076dfc-b9ad-4769-8c92-a6c4dae69d19",
    "_uuid": "8f2839f25d086af736a60e9eeb907d3b93b6e0e5"
   },
   "outputs": [
    {
     "name": "stdout",
     "output_type": "stream",
     "text": [
      "(1460, 80)\n"
     ]
    },
    {
     "data": {
      "text/html": [
       "<div>\n",
       "<style scoped>\n",
       "    .dataframe tbody tr th:only-of-type {\n",
       "        vertical-align: middle;\n",
       "    }\n",
       "\n",
       "    .dataframe tbody tr th {\n",
       "        vertical-align: top;\n",
       "    }\n",
       "\n",
       "    .dataframe thead th {\n",
       "        text-align: right;\n",
       "    }\n",
       "</style>\n",
       "<table border=\"1\" class=\"dataframe\">\n",
       "  <thead>\n",
       "    <tr style=\"text-align: right;\">\n",
       "      <th></th>\n",
       "      <th>MSSubClass</th>\n",
       "      <th>MSZoning</th>\n",
       "      <th>LotFrontage</th>\n",
       "      <th>LotArea</th>\n",
       "      <th>Street</th>\n",
       "      <th>Alley</th>\n",
       "      <th>LotShape</th>\n",
       "      <th>LandContour</th>\n",
       "      <th>Utilities</th>\n",
       "      <th>LotConfig</th>\n",
       "      <th>...</th>\n",
       "      <th>PoolArea</th>\n",
       "      <th>PoolQC</th>\n",
       "      <th>Fence</th>\n",
       "      <th>MiscFeature</th>\n",
       "      <th>MiscVal</th>\n",
       "      <th>MoSold</th>\n",
       "      <th>YrSold</th>\n",
       "      <th>SaleType</th>\n",
       "      <th>SaleCondition</th>\n",
       "      <th>SalePrice</th>\n",
       "    </tr>\n",
       "    <tr>\n",
       "      <th>Id</th>\n",
       "      <th></th>\n",
       "      <th></th>\n",
       "      <th></th>\n",
       "      <th></th>\n",
       "      <th></th>\n",
       "      <th></th>\n",
       "      <th></th>\n",
       "      <th></th>\n",
       "      <th></th>\n",
       "      <th></th>\n",
       "      <th></th>\n",
       "      <th></th>\n",
       "      <th></th>\n",
       "      <th></th>\n",
       "      <th></th>\n",
       "      <th></th>\n",
       "      <th></th>\n",
       "      <th></th>\n",
       "      <th></th>\n",
       "      <th></th>\n",
       "      <th></th>\n",
       "    </tr>\n",
       "  </thead>\n",
       "  <tbody>\n",
       "    <tr>\n",
       "      <th>1</th>\n",
       "      <td>60</td>\n",
       "      <td>RL</td>\n",
       "      <td>65.0</td>\n",
       "      <td>8450</td>\n",
       "      <td>Pave</td>\n",
       "      <td>NaN</td>\n",
       "      <td>Reg</td>\n",
       "      <td>Lvl</td>\n",
       "      <td>AllPub</td>\n",
       "      <td>Inside</td>\n",
       "      <td>...</td>\n",
       "      <td>0</td>\n",
       "      <td>NaN</td>\n",
       "      <td>NaN</td>\n",
       "      <td>NaN</td>\n",
       "      <td>0</td>\n",
       "      <td>2</td>\n",
       "      <td>2008</td>\n",
       "      <td>WD</td>\n",
       "      <td>Normal</td>\n",
       "      <td>208500</td>\n",
       "    </tr>\n",
       "    <tr>\n",
       "      <th>2</th>\n",
       "      <td>20</td>\n",
       "      <td>RL</td>\n",
       "      <td>80.0</td>\n",
       "      <td>9600</td>\n",
       "      <td>Pave</td>\n",
       "      <td>NaN</td>\n",
       "      <td>Reg</td>\n",
       "      <td>Lvl</td>\n",
       "      <td>AllPub</td>\n",
       "      <td>FR2</td>\n",
       "      <td>...</td>\n",
       "      <td>0</td>\n",
       "      <td>NaN</td>\n",
       "      <td>NaN</td>\n",
       "      <td>NaN</td>\n",
       "      <td>0</td>\n",
       "      <td>5</td>\n",
       "      <td>2007</td>\n",
       "      <td>WD</td>\n",
       "      <td>Normal</td>\n",
       "      <td>181500</td>\n",
       "    </tr>\n",
       "  </tbody>\n",
       "</table>\n",
       "<p>2 rows × 80 columns</p>\n",
       "</div>"
      ],
      "text/plain": [
       "    MSSubClass MSZoning  LotFrontage  LotArea Street Alley LotShape  \\\n",
       "Id                                                                    \n",
       "1   60          RL       65.0         8450     Pave   NaN   Reg       \n",
       "2   20          RL       80.0         9600     Pave   NaN   Reg       \n",
       "\n",
       "   LandContour Utilities LotConfig  ... PoolArea PoolQC Fence MiscFeature  \\\n",
       "Id                                  ...                                     \n",
       "1   Lvl         AllPub    Inside    ...  0        NaN    NaN   NaN          \n",
       "2   Lvl         AllPub    FR2       ...  0        NaN    NaN   NaN          \n",
       "\n",
       "   MiscVal MoSold  YrSold  SaleType  SaleCondition  SalePrice  \n",
       "Id                                                             \n",
       "1   0       2      2008    WD        Normal         208500     \n",
       "2   0       5      2007    WD        Normal         181500     \n",
       "\n",
       "[2 rows x 80 columns]"
      ]
     },
     "execution_count": 194,
     "metadata": {},
     "output_type": "execute_result"
    }
   ],
   "source": [
    "#Importing necessary libraries\n",
    "import numpy as np \n",
    "import pandas as pd \n",
    "\n",
    "Train_full=pd.read_csv('../Downloads/train.csv',index_col='Id')\n",
    "Test_full=pd.read_csv('../Downloads/test.csv',index_col='Id')\n",
    "print(Train_full.shape)\n",
    "Train_full.head(2)"
   ]
  },
  {
   "cell_type": "markdown",
   "metadata": {},
   "source": [
    "## Data Cleaning"
   ]
  },
  {
   "cell_type": "code",
   "execution_count": 195,
   "metadata": {},
   "outputs": [
    {
     "name": "stdout",
     "output_type": "stream",
     "text": [
      "Count of null values for each column in training and test\n",
      "\n",
      "Training set\n",
      "\n",
      "LotFrontage 259\n",
      "Alley 1369\n",
      "MasVnrType 8\n",
      "MasVnrArea 8\n",
      "BsmtQual 37\n",
      "BsmtCond 37\n",
      "BsmtExposure 38\n",
      "BsmtFinType1 37\n",
      "BsmtFinType2 38\n",
      "Electrical 1\n",
      "FireplaceQu 690\n",
      "GarageType 81\n",
      "GarageYrBlt 81\n",
      "GarageFinish 81\n",
      "GarageQual 81\n",
      "GarageCond 81\n",
      "PoolQC 1453\n",
      "Fence 1179\n",
      "MiscFeature 1406\n",
      "\n",
      "Test set\n",
      "\n",
      "MSZoning 4\n",
      "LotFrontage 227\n",
      "Alley 1352\n",
      "Utilities 2\n",
      "Exterior1st 1\n",
      "Exterior2nd 1\n",
      "MasVnrType 16\n",
      "MasVnrArea 15\n",
      "BsmtQual 44\n",
      "BsmtCond 45\n",
      "BsmtExposure 44\n",
      "BsmtFinType1 42\n",
      "BsmtFinSF1 1\n",
      "BsmtFinType2 42\n",
      "BsmtFinSF2 1\n",
      "BsmtUnfSF 1\n",
      "TotalBsmtSF 1\n",
      "BsmtFullBath 2\n",
      "BsmtHalfBath 2\n",
      "KitchenQual 1\n",
      "Functional 2\n",
      "FireplaceQu 730\n",
      "GarageType 76\n",
      "GarageYrBlt 78\n",
      "GarageFinish 78\n",
      "GarageCars 1\n",
      "GarageArea 1\n",
      "GarageQual 78\n",
      "GarageCond 78\n",
      "PoolQC 1456\n",
      "Fence 1169\n",
      "MiscFeature 1408\n",
      "SaleType 1\n"
     ]
    }
   ],
   "source": [
    "print(\"Count of null values for each column in training and test\\n\")\n",
    "Datasets=[Train_full,Test_full]\n",
    "print(\"Training set\\n\")\n",
    "\n",
    "flag=0\n",
    "for dataset in Datasets:\n",
    "    for i,j in zip(dataset.columns, dataset.isnull().sum()):\n",
    "        if j>0:\n",
    "            print(i,j,end=\"\\n\")\n",
    "    flag+=1\n",
    "    if flag==1:\n",
    "        print(\"\\nTest set\\n\")\n",
    "    "
   ]
  },
  {
   "cell_type": "code",
   "execution_count": 196,
   "metadata": {},
   "outputs": [],
   "source": [
    "#List of numerical or categorical columns, for later use\n",
    "Cat_cols=[x for x in Train_full.columns if Train_full[x].dtype=='object']\n",
    "Num_cols=[x for x in Train_full.columns if (Train_full[x].dtype=='float64' or Train_full[x].dtype=='int64' )]"
   ]
  },
  {
   "cell_type": "markdown",
   "metadata": {},
   "source": [
    "### Creating dummies for categorical variables"
   ]
  },
  {
   "cell_type": "code",
   "execution_count": 197,
   "metadata": {},
   "outputs": [
    {
     "name": "stdout",
     "output_type": "stream",
     "text": [
      "Training data shape  (1460, 332) \n",
      "Test data shape  (1459, 313)\n"
     ]
    }
   ],
   "source": [
    "#Creating dummy variables for categorical columns\n",
    "Train_full=pd.get_dummies(data=Train_full,columns=Cat_cols,prefix=Cat_cols,dummy_na=True)\n",
    "Test_full=pd.get_dummies(data=Test_full,columns=Cat_cols,prefix=Cat_cols,dummy_na=True)\n",
    "print(\"Training data shape \",Train_full.shape,\"\\nTest data shape \",Test_full.shape)\n"
   ]
  },
  {
   "cell_type": "code",
   "execution_count": 198,
   "metadata": {},
   "outputs": [
    {
     "name": "stdout",
     "output_type": "stream",
     "text": [
      "Dummy columns in the training data that are not found in test, some catgeory variables in the test datadid not have the same range of values as they did in the training set\n",
      "\n",
      "Utilities_NoSeWa\n",
      "Condition2_RRAe\n",
      "Condition2_RRAn\n",
      "Condition2_RRNn\n",
      "HouseStyle_2.5Fin\n",
      "RoofMatl_ClyTile\n",
      "RoofMatl_Membran\n",
      "RoofMatl_Metal\n",
      "RoofMatl_Roll\n",
      "Exterior1st_ImStucc\n",
      "Exterior1st_Stone\n",
      "Exterior2nd_Other\n",
      "Heating_Floor\n",
      "Heating_OthW\n",
      "Electrical_Mix\n",
      "GarageQual_Ex\n",
      "PoolQC_Fa\n",
      "MiscFeature_TenC\n"
     ]
    }
   ],
   "source": [
    "#Some categorical dummies are in the Training set but absent in the test set. We will include these in the\n",
    "#test set and assign it a value of 0\n",
    "\n",
    "print(\"Dummy columns in the training data that are not found in test, some catgeory variables in the test data\\\n",
    "did not have the same range of values as they did in the training set\\n\")\n",
    "for x in Cat_cols:\n",
    "    for y in Train_full.columns:\n",
    "        if y.startswith(x) and y not in Test_full.columns:\n",
    "            print(y)\n",
    "            Test_full[y]=0"
   ]
  },
  {
   "cell_type": "code",
   "execution_count": 199,
   "metadata": {},
   "outputs": [
    {
     "name": "stdout",
     "output_type": "stream",
     "text": [
      "Training data shape  (1460, 331) \n",
      "Test data shape  (1459, 331)\n"
     ]
    },
    {
     "data": {
      "text/html": [
       "<div>\n",
       "<style scoped>\n",
       "    .dataframe tbody tr th:only-of-type {\n",
       "        vertical-align: middle;\n",
       "    }\n",
       "\n",
       "    .dataframe tbody tr th {\n",
       "        vertical-align: top;\n",
       "    }\n",
       "\n",
       "    .dataframe thead th {\n",
       "        text-align: right;\n",
       "    }\n",
       "</style>\n",
       "<table border=\"1\" class=\"dataframe\">\n",
       "  <thead>\n",
       "    <tr style=\"text-align: right;\">\n",
       "      <th></th>\n",
       "      <th>MSSubClass</th>\n",
       "      <th>LotFrontage</th>\n",
       "      <th>LotArea</th>\n",
       "      <th>OverallQual</th>\n",
       "      <th>OverallCond</th>\n",
       "      <th>YearBuilt</th>\n",
       "      <th>YearRemodAdd</th>\n",
       "      <th>MasVnrArea</th>\n",
       "      <th>BsmtFinSF1</th>\n",
       "      <th>BsmtFinSF2</th>\n",
       "      <th>...</th>\n",
       "      <th>SaleType_Oth</th>\n",
       "      <th>SaleType_WD</th>\n",
       "      <th>SaleType_nan</th>\n",
       "      <th>SaleCondition_Abnorml</th>\n",
       "      <th>SaleCondition_AdjLand</th>\n",
       "      <th>SaleCondition_Alloca</th>\n",
       "      <th>SaleCondition_Family</th>\n",
       "      <th>SaleCondition_Normal</th>\n",
       "      <th>SaleCondition_Partial</th>\n",
       "      <th>SaleCondition_nan</th>\n",
       "    </tr>\n",
       "    <tr>\n",
       "      <th>Id</th>\n",
       "      <th></th>\n",
       "      <th></th>\n",
       "      <th></th>\n",
       "      <th></th>\n",
       "      <th></th>\n",
       "      <th></th>\n",
       "      <th></th>\n",
       "      <th></th>\n",
       "      <th></th>\n",
       "      <th></th>\n",
       "      <th></th>\n",
       "      <th></th>\n",
       "      <th></th>\n",
       "      <th></th>\n",
       "      <th></th>\n",
       "      <th></th>\n",
       "      <th></th>\n",
       "      <th></th>\n",
       "      <th></th>\n",
       "      <th></th>\n",
       "      <th></th>\n",
       "    </tr>\n",
       "  </thead>\n",
       "  <tbody>\n",
       "    <tr>\n",
       "      <th>1461</th>\n",
       "      <td>20</td>\n",
       "      <td>80.0</td>\n",
       "      <td>11622</td>\n",
       "      <td>5</td>\n",
       "      <td>6</td>\n",
       "      <td>1961</td>\n",
       "      <td>1961</td>\n",
       "      <td>0.0</td>\n",
       "      <td>468.0</td>\n",
       "      <td>144.0</td>\n",
       "      <td>...</td>\n",
       "      <td>0</td>\n",
       "      <td>1</td>\n",
       "      <td>0</td>\n",
       "      <td>0</td>\n",
       "      <td>0</td>\n",
       "      <td>0</td>\n",
       "      <td>0</td>\n",
       "      <td>1</td>\n",
       "      <td>0</td>\n",
       "      <td>0</td>\n",
       "    </tr>\n",
       "    <tr>\n",
       "      <th>1462</th>\n",
       "      <td>20</td>\n",
       "      <td>81.0</td>\n",
       "      <td>14267</td>\n",
       "      <td>6</td>\n",
       "      <td>6</td>\n",
       "      <td>1958</td>\n",
       "      <td>1958</td>\n",
       "      <td>108.0</td>\n",
       "      <td>923.0</td>\n",
       "      <td>0.0</td>\n",
       "      <td>...</td>\n",
       "      <td>0</td>\n",
       "      <td>1</td>\n",
       "      <td>0</td>\n",
       "      <td>0</td>\n",
       "      <td>0</td>\n",
       "      <td>0</td>\n",
       "      <td>0</td>\n",
       "      <td>1</td>\n",
       "      <td>0</td>\n",
       "      <td>0</td>\n",
       "    </tr>\n",
       "  </tbody>\n",
       "</table>\n",
       "<p>2 rows × 331 columns</p>\n",
       "</div>"
      ],
      "text/plain": [
       "      MSSubClass  LotFrontage  LotArea  OverallQual  OverallCond  YearBuilt  \\\n",
       "Id                                                                            \n",
       "1461  20          80.0         11622    5            6            1961        \n",
       "1462  20          81.0         14267    6            6            1958        \n",
       "\n",
       "      YearRemodAdd  MasVnrArea  BsmtFinSF1  BsmtFinSF2  ...  SaleType_Oth  \\\n",
       "Id                                                      ...                 \n",
       "1461  1961          0.0         468.0       144.0       ...  0              \n",
       "1462  1958          108.0       923.0       0.0         ...  0              \n",
       "\n",
       "      SaleType_WD  SaleType_nan  SaleCondition_Abnorml  SaleCondition_AdjLand  \\\n",
       "Id                                                                              \n",
       "1461  1            0             0                      0                       \n",
       "1462  1            0             0                      0                       \n",
       "\n",
       "      SaleCondition_Alloca  SaleCondition_Family  SaleCondition_Normal  \\\n",
       "Id                                                                       \n",
       "1461  0                     0                     1                      \n",
       "1462  0                     0                     1                      \n",
       "\n",
       "      SaleCondition_Partial  SaleCondition_nan  \n",
       "Id                                              \n",
       "1461  0                      0                  \n",
       "1462  0                      0                  \n",
       "\n",
       "[2 rows x 331 columns]"
      ]
     },
     "execution_count": 199,
     "metadata": {},
     "output_type": "execute_result"
    }
   ],
   "source": [
    "#Remove the Sale price variable from training data\n",
    "X=Train_full.drop('SalePrice',axis=1)\n",
    "Y=Train_full.SalePrice\n",
    "\n",
    "#Rearranging the columns in the test data to fit that of the training data\n",
    "Test_full=Test_full[X.columns]\n",
    "print(\"Training data shape \",X.shape,\"\\nTest data shape \",Test_full.shape)\n",
    "Test_full.head(2)"
   ]
  },
  {
   "cell_type": "code",
   "execution_count": 200,
   "metadata": {},
   "outputs": [
    {
     "data": {
      "text/html": [
       "<div>\n",
       "<style scoped>\n",
       "    .dataframe tbody tr th:only-of-type {\n",
       "        vertical-align: middle;\n",
       "    }\n",
       "\n",
       "    .dataframe tbody tr th {\n",
       "        vertical-align: top;\n",
       "    }\n",
       "\n",
       "    .dataframe thead th {\n",
       "        text-align: right;\n",
       "    }\n",
       "</style>\n",
       "<table border=\"1\" class=\"dataframe\">\n",
       "  <thead>\n",
       "    <tr style=\"text-align: right;\">\n",
       "      <th></th>\n",
       "      <th>MSSubClass</th>\n",
       "      <th>LotFrontage</th>\n",
       "      <th>LotArea</th>\n",
       "      <th>OverallQual</th>\n",
       "      <th>OverallCond</th>\n",
       "      <th>YearBuilt</th>\n",
       "      <th>YearRemodAdd</th>\n",
       "      <th>MasVnrArea</th>\n",
       "      <th>BsmtFinSF1</th>\n",
       "      <th>BsmtFinSF2</th>\n",
       "      <th>...</th>\n",
       "      <th>SaleType_Oth</th>\n",
       "      <th>SaleType_WD</th>\n",
       "      <th>SaleType_nan</th>\n",
       "      <th>SaleCondition_Abnorml</th>\n",
       "      <th>SaleCondition_AdjLand</th>\n",
       "      <th>SaleCondition_Alloca</th>\n",
       "      <th>SaleCondition_Family</th>\n",
       "      <th>SaleCondition_Normal</th>\n",
       "      <th>SaleCondition_Partial</th>\n",
       "      <th>SaleCondition_nan</th>\n",
       "    </tr>\n",
       "    <tr>\n",
       "      <th>Id</th>\n",
       "      <th></th>\n",
       "      <th></th>\n",
       "      <th></th>\n",
       "      <th></th>\n",
       "      <th></th>\n",
       "      <th></th>\n",
       "      <th></th>\n",
       "      <th></th>\n",
       "      <th></th>\n",
       "      <th></th>\n",
       "      <th></th>\n",
       "      <th></th>\n",
       "      <th></th>\n",
       "      <th></th>\n",
       "      <th></th>\n",
       "      <th></th>\n",
       "      <th></th>\n",
       "      <th></th>\n",
       "      <th></th>\n",
       "      <th></th>\n",
       "      <th></th>\n",
       "    </tr>\n",
       "  </thead>\n",
       "  <tbody>\n",
       "    <tr>\n",
       "      <th>1</th>\n",
       "      <td>60</td>\n",
       "      <td>65.0</td>\n",
       "      <td>8450</td>\n",
       "      <td>7</td>\n",
       "      <td>5</td>\n",
       "      <td>2003</td>\n",
       "      <td>2003</td>\n",
       "      <td>196.0</td>\n",
       "      <td>706</td>\n",
       "      <td>0</td>\n",
       "      <td>...</td>\n",
       "      <td>0</td>\n",
       "      <td>1</td>\n",
       "      <td>0</td>\n",
       "      <td>0</td>\n",
       "      <td>0</td>\n",
       "      <td>0</td>\n",
       "      <td>0</td>\n",
       "      <td>1</td>\n",
       "      <td>0</td>\n",
       "      <td>0</td>\n",
       "    </tr>\n",
       "    <tr>\n",
       "      <th>2</th>\n",
       "      <td>20</td>\n",
       "      <td>80.0</td>\n",
       "      <td>9600</td>\n",
       "      <td>6</td>\n",
       "      <td>8</td>\n",
       "      <td>1976</td>\n",
       "      <td>1976</td>\n",
       "      <td>0.0</td>\n",
       "      <td>978</td>\n",
       "      <td>0</td>\n",
       "      <td>...</td>\n",
       "      <td>0</td>\n",
       "      <td>1</td>\n",
       "      <td>0</td>\n",
       "      <td>0</td>\n",
       "      <td>0</td>\n",
       "      <td>0</td>\n",
       "      <td>0</td>\n",
       "      <td>1</td>\n",
       "      <td>0</td>\n",
       "      <td>0</td>\n",
       "    </tr>\n",
       "  </tbody>\n",
       "</table>\n",
       "<p>2 rows × 331 columns</p>\n",
       "</div>"
      ],
      "text/plain": [
       "    MSSubClass  LotFrontage  LotArea  OverallQual  OverallCond  YearBuilt  \\\n",
       "Id                                                                          \n",
       "1   60          65.0         8450     7            5            2003        \n",
       "2   20          80.0         9600     6            8            1976        \n",
       "\n",
       "    YearRemodAdd  MasVnrArea  BsmtFinSF1  BsmtFinSF2  ...  SaleType_Oth  \\\n",
       "Id                                                    ...                 \n",
       "1   2003          196.0       706         0           ...  0              \n",
       "2   1976          0.0         978         0           ...  0              \n",
       "\n",
       "    SaleType_WD  SaleType_nan  SaleCondition_Abnorml  SaleCondition_AdjLand  \\\n",
       "Id                                                                            \n",
       "1   1            0             0                      0                       \n",
       "2   1            0             0                      0                       \n",
       "\n",
       "    SaleCondition_Alloca  SaleCondition_Family  SaleCondition_Normal  \\\n",
       "Id                                                                     \n",
       "1   0                     0                     1                      \n",
       "2   0                     0                     1                      \n",
       "\n",
       "    SaleCondition_Partial  SaleCondition_nan  \n",
       "Id                                            \n",
       "1   0                      0                  \n",
       "2   0                      0                  \n",
       "\n",
       "[2 rows x 331 columns]"
      ]
     },
     "execution_count": 200,
     "metadata": {},
     "output_type": "execute_result"
    }
   ],
   "source": [
    "X.head(2)"
   ]
  },
  {
   "cell_type": "markdown",
   "metadata": {},
   "source": [
    "Order of columns preserved, important as parameter values are associated with column order and not column names\n",
    "when fitting and predicting"
   ]
  },
  {
   "cell_type": "markdown",
   "metadata": {},
   "source": [
    "### Impute missing values for numerical columns using kNN"
   ]
  },
  {
   "cell_type": "code",
   "execution_count": 201,
   "metadata": {},
   "outputs": [],
   "source": [
    "\n",
    "from sklearn.impute import KNNImputer\n",
    "imputer=KNNImputer(n_neighbors=3)\n",
    "\n",
    "X_impute=imputer.fit_transform(X)\n",
    "X=pd.DataFrame(X_impute,columns=X.columns,index=X.index)\n",
    "\n",
    "#Similarly for the test dataset\n",
    "imputer_test=KNNImputer(n_neighbors=3)\n",
    "X_test_impute=imputer_test.fit_transform(Test_full)\n",
    "Test_full=pd.DataFrame(X_test_impute,columns=Test_full.columns,index=Test_full.index)"
   ]
  },
  {
   "cell_type": "code",
   "execution_count": 202,
   "metadata": {},
   "outputs": [],
   "source": [
    "#Taking natural log of Sale Price\n",
    "Y=Y.apply(lambda x: np.log(x))"
   ]
  },
  {
   "cell_type": "markdown",
   "metadata": {},
   "source": [
    "## *_Model Building_*\n",
    "Fitting the data with various appropriate models and recording accuracy of each model:"
   ]
  },
  {
   "cell_type": "code",
   "execution_count": 203,
   "metadata": {},
   "outputs": [],
   "source": [
    "#Making a table to jot down results\n",
    "Results=pd.DataFrame(columns=['Model','Mean_sq_log_error','Notes'])\n",
    "pd.set_option('display.max_colwidth', 0)"
   ]
  },
  {
   "cell_type": "code",
   "execution_count": 204,
   "metadata": {},
   "outputs": [],
   "source": [
    "#Splitting training and testing data\n",
    "from sklearn.model_selection import train_test_split\n",
    "X_train,X_valid,Y_train,Y_valid=train_test_split(X,Y,random_state=1)"
   ]
  },
  {
   "cell_type": "markdown",
   "metadata": {},
   "source": [
    "### Linear Regression"
   ]
  },
  {
   "cell_type": "code",
   "execution_count": 205,
   "metadata": {},
   "outputs": [
    {
     "data": {
      "text/html": [
       "<div>\n",
       "<style scoped>\n",
       "    .dataframe tbody tr th:only-of-type {\n",
       "        vertical-align: middle;\n",
       "    }\n",
       "\n",
       "    .dataframe tbody tr th {\n",
       "        vertical-align: top;\n",
       "    }\n",
       "\n",
       "    .dataframe thead th {\n",
       "        text-align: right;\n",
       "    }\n",
       "</style>\n",
       "<table border=\"1\" class=\"dataframe\">\n",
       "  <thead>\n",
       "    <tr style=\"text-align: right;\">\n",
       "      <th></th>\n",
       "      <th>Model</th>\n",
       "      <th>Mean_sq_log_error</th>\n",
       "      <th>Notes</th>\n",
       "    </tr>\n",
       "  </thead>\n",
       "  <tbody>\n",
       "    <tr>\n",
       "      <th>0</th>\n",
       "      <td>Linear reg</td>\n",
       "      <td>0.018</td>\n",
       "      <td>R2= 0.893</td>\n",
       "    </tr>\n",
       "  </tbody>\n",
       "</table>\n",
       "</div>"
      ],
      "text/plain": [
       "        Model  Mean_sq_log_error      Notes\n",
       "0  Linear reg  0.018              R2= 0.893"
      ]
     },
     "execution_count": 205,
     "metadata": {},
     "output_type": "execute_result"
    }
   ],
   "source": [
    "from sklearn.metrics import mean_squared_error\n",
    "from sklearn.linear_model import LinearRegression\n",
    "\n",
    "Linear_model=LinearRegression(fit_intercept=True)\n",
    "Linear_model.fit(X_train,Y_train)\n",
    "R2=Linear_model.score(X_valid,Y_valid)\n",
    "Y_pred=Linear_model.predict(X_valid)\n",
    "Score= mean_squared_error(Y_valid,Y_pred)\n",
    "Results=Results.append(other={'Model':\"Linear reg\",'Mean_sq_log_error': round(Score,3),'Notes': \"R2= {}\".format(round(R2,3))},\n",
    "                       ignore_index=True)\n",
    "Results.head()"
   ]
  },
  {
   "cell_type": "markdown",
   "metadata": {},
   "source": [
    "### Random Forest Regressor\n",
    "Having used Random Forests for several classification models, I am curious to see how it performs for regression"
   ]
  },
  {
   "cell_type": "markdown",
   "metadata": {},
   "source": [
    "#### Grid Search"
   ]
  },
  {
   "cell_type": "code",
   "execution_count": 206,
   "metadata": {},
   "outputs": [
    {
     "name": "stdout",
     "output_type": "stream",
     "text": [
      "{'max_depth': None, 'min_samples_leaf': 1, 'min_samples_split': 3} \n",
      "Best Mean Squared Log Error out of the search: -0.14709649308765013\n"
     ]
    }
   ],
   "source": [
    "from sklearn.ensemble import RandomForestRegressor \n",
    "TreeReg=RandomForestRegressor(random_state=1)\n",
    "\n",
    "#Set up a grid to determine optimal hyperparameters\n",
    "param={'max_depth':[6,7,8,9,None], 'min_samples_split':[2,3,4],'min_samples_leaf':[1,2,3]}\n",
    "\n",
    "from sklearn.model_selection import GridSearchCV\n",
    "SearchObject=GridSearchCV(estimator=TreeReg,param_grid=param,cv=3,scoring='neg_root_mean_squared_error',n_jobs=-1)\n",
    "SearchObject.fit(X,Y)\n",
    "print(SearchObject.best_params_,\"\\nBest Mean Squared Log Error out of the search:\",SearchObject.best_score_)"
   ]
  },
  {
   "cell_type": "markdown",
   "metadata": {},
   "source": [
    "#### Final Model"
   ]
  },
  {
   "cell_type": "code",
   "execution_count": 207,
   "metadata": {},
   "outputs": [
    {
     "data": {
      "text/html": [
       "<div>\n",
       "<style scoped>\n",
       "    .dataframe tbody tr th:only-of-type {\n",
       "        vertical-align: middle;\n",
       "    }\n",
       "\n",
       "    .dataframe tbody tr th {\n",
       "        vertical-align: top;\n",
       "    }\n",
       "\n",
       "    .dataframe thead th {\n",
       "        text-align: right;\n",
       "    }\n",
       "</style>\n",
       "<table border=\"1\" class=\"dataframe\">\n",
       "  <thead>\n",
       "    <tr style=\"text-align: right;\">\n",
       "      <th></th>\n",
       "      <th>Model</th>\n",
       "      <th>Mean_sq_log_error</th>\n",
       "      <th>Notes</th>\n",
       "    </tr>\n",
       "  </thead>\n",
       "  <tbody>\n",
       "    <tr>\n",
       "      <th>0</th>\n",
       "      <td>Linear reg</td>\n",
       "      <td>0.018</td>\n",
       "      <td>R2= 0.893</td>\n",
       "    </tr>\n",
       "    <tr>\n",
       "      <th>1</th>\n",
       "      <td>Random Forest reg</td>\n",
       "      <td>0.022</td>\n",
       "      <td>Grid Search used</td>\n",
       "    </tr>\n",
       "  </tbody>\n",
       "</table>\n",
       "</div>"
      ],
      "text/plain": [
       "               Model  Mean_sq_log_error             Notes\n",
       "0  Linear reg         0.018              R2= 0.893       \n",
       "1  Random Forest reg  0.022              Grid Search used"
      ]
     },
     "execution_count": 207,
     "metadata": {},
     "output_type": "execute_result"
    }
   ],
   "source": [
    "TreeRegFinal=RandomForestRegressor(max_depth=6,min_samples_leaf=1,min_samples_split=2,random_state=1)\n",
    "TreeRegFinal.fit(X_train,Y_train)\n",
    "Y_pred=TreeRegFinal.predict(X_valid)\n",
    "Score=mean_squared_error(Y_valid,Y_pred)\n",
    "Results=Results.append(other={'Model':\"Random Forest reg\",'Mean_sq_log_error':round(Score,3),'Notes':\"Grid Search used\"}\n",
    "                       ,ignore_index=True)\n",
    "Results.head()"
   ]
  },
  {
   "cell_type": "markdown",
   "metadata": {},
   "source": [
    "### Ridge Regression\n",
    "\n",
    "Compared to OLS, Ridge regression has a lesser chance for overfitting the data. It adds a penalty term that is a factor of the sum of squared coefficients (alpha) to the minimizing equation. I use Grid search to find an optimal alpha value"
   ]
  },
  {
   "cell_type": "markdown",
   "metadata": {},
   "source": [
    "#### Grid Search"
   ]
  },
  {
   "cell_type": "code",
   "execution_count": 208,
   "metadata": {},
   "outputs": [
    {
     "name": "stdout",
     "output_type": "stream",
     "text": [
      "{'alpha': 0.3785953177257525} \n",
      "Best Mean Squared Log Error out of the search: -0.13883048099842402\n"
     ]
    }
   ],
   "source": [
    "from sklearn.linear_model import Ridge\n",
    "\n",
    "RidgeModel=Ridge(normalize=True)\n",
    "param={'alpha':[i for i in np.linspace(0.2,0.5,num=300)]} #Actually experimented with many different bounds\n",
    "SearchObject=GridSearchCV(estimator=RidgeModel,param_grid=param,cv=3,scoring='neg_root_mean_squared_error',n_jobs=-1)\n",
    "SearchObject.fit(X,Y)\n",
    "print(SearchObject.best_params_,\"\\nBest Mean Squared Log Error out of the search:\",SearchObject.best_score_)\n"
   ]
  },
  {
   "cell_type": "markdown",
   "metadata": {},
   "source": [
    "#### Final Model"
   ]
  },
  {
   "cell_type": "code",
   "execution_count": 209,
   "metadata": {},
   "outputs": [
    {
     "data": {
      "text/html": [
       "<div>\n",
       "<style scoped>\n",
       "    .dataframe tbody tr th:only-of-type {\n",
       "        vertical-align: middle;\n",
       "    }\n",
       "\n",
       "    .dataframe tbody tr th {\n",
       "        vertical-align: top;\n",
       "    }\n",
       "\n",
       "    .dataframe thead th {\n",
       "        text-align: right;\n",
       "    }\n",
       "</style>\n",
       "<table border=\"1\" class=\"dataframe\">\n",
       "  <thead>\n",
       "    <tr style=\"text-align: right;\">\n",
       "      <th></th>\n",
       "      <th>Model</th>\n",
       "      <th>Mean_sq_log_error</th>\n",
       "      <th>Notes</th>\n",
       "    </tr>\n",
       "  </thead>\n",
       "  <tbody>\n",
       "    <tr>\n",
       "      <th>0</th>\n",
       "      <td>Linear reg</td>\n",
       "      <td>0.018</td>\n",
       "      <td>R2= 0.893</td>\n",
       "    </tr>\n",
       "    <tr>\n",
       "      <th>1</th>\n",
       "      <td>Random Forest reg</td>\n",
       "      <td>0.022</td>\n",
       "      <td>Grid Search used</td>\n",
       "    </tr>\n",
       "    <tr>\n",
       "      <th>2</th>\n",
       "      <td>Ridge Reg</td>\n",
       "      <td>0.016</td>\n",
       "      <td>X standardized, alpha=0.38, R2 = 0.904</td>\n",
       "    </tr>\n",
       "  </tbody>\n",
       "</table>\n",
       "</div>"
      ],
      "text/plain": [
       "               Model  Mean_sq_log_error  \\\n",
       "0  Linear reg         0.018               \n",
       "1  Random Forest reg  0.022               \n",
       "2  Ridge Reg          0.016               \n",
       "\n",
       "                                    Notes  \n",
       "0  R2= 0.893                               \n",
       "1  Grid Search used                        \n",
       "2  X standardized, alpha=0.38, R2 = 0.904  "
      ]
     },
     "execution_count": 209,
     "metadata": {},
     "output_type": "execute_result"
    }
   ],
   "source": [
    "RidgeFinal=Ridge(normalize=True,alpha=0.38)\n",
    "RidgeFinal.fit(X_train,Y_train)\n",
    "Y_pred=RidgeFinal.predict(X_valid)\n",
    "R2=RidgeFinal.score(X_valid,Y_valid)\n",
    "Score=mean_squared_error(Y_valid,Y_pred)\n",
    "Results=Results.append(other={'Model':\"Ridge Reg\",'Mean_sq_log_error':round(Score,3),'Notes':\"X standardized, alpha=0.38, R2 = {}\".format(round(R2,3))}\n",
    "                       ,ignore_index=True)\n",
    "Results.head()"
   ]
  },
  {
   "cell_type": "code",
   "execution_count": 211,
   "metadata": {},
   "outputs": [],
   "source": [
    "### Using Ridge Regression model's predictions for final submission\n",
    "Final=Ridge(normalize=True,alpha=0.38)\n",
    "Final.fit(X,Y)\n",
    "Y_final=Final.predict(Test_full)\n",
    "#Convert back from log as we had taken log of sale price\n",
    "Y_final=np.exp(Y_final)\n",
    "output=pd.DataFrame({\"Id\":Test_full.index, \"SalePrice\":Y_final})\n",
    "output.to_csv('submission.csv',index=False)"
   ]
  }
 ],
 "metadata": {
  "kernelspec": {
   "display_name": "Python 3",
   "language": "python",
   "name": "python3"
  },
  "language_info": {
   "codemirror_mode": {
    "name": "ipython",
    "version": 3
   },
   "file_extension": ".py",
   "mimetype": "text/x-python",
   "name": "python",
   "nbconvert_exporter": "python",
   "pygments_lexer": "ipython3",
   "version": "3.8.8"
  },
  "toc-autonumbering": false,
  "toc-showcode": false,
  "toc-showmarkdowntxt": false
 },
 "nbformat": 4,
 "nbformat_minor": 4
}
