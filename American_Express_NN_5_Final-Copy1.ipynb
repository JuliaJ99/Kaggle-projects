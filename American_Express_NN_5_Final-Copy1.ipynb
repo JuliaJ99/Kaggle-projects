{
 "cells": [
  {
   "cell_type": "markdown",
   "id": "2697fcd8-5c74-497f-a11c-9849cd8565e7",
   "metadata": {
    "tags": []
   },
   "source": [
    "### Info\n",
    "The dataset contains aggregated profile features for each customer at each statement date. Features are anonymized and normalized, and fall into the following general categories:\n",
    "\n",
    "D_* = Delinquency variables\n",
    "S_* = Spend variables\n",
    "P_* = Payment variables\n",
    "B_* = Balance variables\n",
    "R_* = Risk variables\n",
    "\n",
    "## Notebook"
   ]
  },
  {
   "cell_type": "code",
   "execution_count": 1,
   "id": "c996a3c8-881b-40c8-8bbe-99a2d87bc341",
   "metadata": {},
   "outputs": [],
   "source": [
    "import vaex\n",
    "import numpy as np\n",
    "import pandas as pd"
   ]
  },
  {
   "cell_type": "code",
   "execution_count": 2,
   "id": "1315bbf9-9949-4347-bae7-71a952d4fc7a",
   "metadata": {
    "tags": []
   },
   "outputs": [
    {
     "data": {
      "text/plain": [
       "(5531451, 190)"
      ]
     },
     "execution_count": 2,
     "metadata": {},
     "output_type": "execute_result"
    }
   ],
   "source": [
    "\n",
    "# from datetime import datetime\n",
    "# Code for initially converting to hdf5 format\n",
    "# d_parser = lambda x: datetime.strptime(x, '%Y-%m-%d')\n",
    "# df= vaex.from_csv('train_data.csv', convert=True, chunk_size=100_000, parse_dates=['S_2'], \n",
    "#                   date_parser=d_parser)\n",
    "df=vaex.open('train_data.csv.hdf5')\n",
    "\n",
    "df.shape #No rows and features"
   ]
  },
  {
   "cell_type": "code",
   "execution_count": 3,
   "id": "9d0c013d-f434-406b-bbc9-197dbf5bf0b1",
   "metadata": {},
   "outputs": [],
   "source": [
    "import pandas as pd\n",
    "import seaborn as sns"
   ]
  },
  {
   "cell_type": "code",
   "execution_count": 4,
   "id": "38c9bdbf-ea0f-4b40-ad33-bc4c2555ca67",
   "metadata": {},
   "outputs": [],
   "source": [
    "# df.head(2)"
   ]
  },
  {
   "cell_type": "code",
   "execution_count": 5,
   "id": "dc1da2d1-e538-473b-bbe7-abfa598e00a8",
   "metadata": {},
   "outputs": [
    {
     "name": "stdout",
     "output_type": "stream",
     "text": [
      "There are 458913 unique customers in the dataset\n"
     ]
    }
   ],
   "source": [
    "print(\"There are {} unique customers in the dataset\".format(df.customer_ID.nunique()))"
   ]
  },
  {
   "cell_type": "code",
   "execution_count": 6,
   "id": "427b8705-756b-48be-8959-07aa85fe9520",
   "metadata": {},
   "outputs": [
    {
     "data": {
      "text/plain": [
       "'Date'"
      ]
     },
     "execution_count": 6,
     "metadata": {},
     "output_type": "execute_result"
    }
   ],
   "source": [
    "df.rename('S_2','Date')"
   ]
  },
  {
   "cell_type": "code",
   "execution_count": 7,
   "id": "f093e0d8-3fc9-4ecb-9f02-275ccdc12519",
   "metadata": {},
   "outputs": [],
   "source": [
    "cat_cols=['B_30', 'B_38', 'D_114', 'D_116', 'D_117', 'D_120', 'D_126', 'D_63', 'D_64', 'D_66', 'D_68']"
   ]
  },
  {
   "cell_type": "code",
   "execution_count": 8,
   "id": "ec268bc0-1fd2-4681-aea5-cfc300db6ec8",
   "metadata": {
    "tags": []
   },
   "outputs": [],
   "source": [
    "# for col in cat_cols:\n",
    "#     print(\"\\n {} \\n\".format(col),df[col].value_counts())"
   ]
  },
  {
   "cell_type": "code",
   "execution_count": 9,
   "id": "35905f71-f5f2-4c53-b543-53e95f13b12e",
   "metadata": {},
   "outputs": [],
   "source": [
    "cat_use=['D_63']"
   ]
  },
  {
   "cell_type": "markdown",
   "id": "248ad422-e62f-4c02-b940-6461a98bd4f7",
   "metadata": {},
   "source": [
    "#### One Hot Encoding"
   ]
  },
  {
   "cell_type": "code",
   "execution_count": 10,
   "id": "aaad6919-cf19-4b7f-adc1-d68ed003f4c4",
   "metadata": {
    "tags": []
   },
   "outputs": [],
   "source": [
    "import vaex.ml\n",
    "OneHotEncoder=vaex.ml.OneHotEncoder(features=cat_use,prefix='Encode_')\n",
    "df=OneHotEncoder.fit_transform(df)"
   ]
  },
  {
   "cell_type": "code",
   "execution_count": 11,
   "id": "19058608-6168-4141-b776-b407dc8ab68d",
   "metadata": {},
   "outputs": [],
   "source": [
    "encoded_cols=[col for col in list(df.column_names) if col.startswith(\"Encode\")]"
   ]
  },
  {
   "cell_type": "markdown",
   "id": "6200161c-6f20-48cc-89ff-5ba0d0f4e208",
   "metadata": {},
   "source": [
    "#### Joining with target"
   ]
  },
  {
   "cell_type": "code",
   "execution_count": 12,
   "id": "025d0519-de44-4c8e-9ee5-aa285f184d5d",
   "metadata": {},
   "outputs": [],
   "source": [
    "# target= vaex.from_csv('train_labels.csv', convert=True)\n",
    "target=vaex.open('train_labels.csv.hdf5')\n",
    "df=df.join(target,on='customer_ID')"
   ]
  },
  {
   "cell_type": "code",
   "execution_count": 13,
   "id": "83ad9b86-44b7-4f46-bde1-709975c2843c",
   "metadata": {},
   "outputs": [],
   "source": [
    "# df.target.value_counts()[1]/(df.target.value_counts()[0]+df.target.value_counts()[1])"
   ]
  },
  {
   "cell_type": "code",
   "execution_count": 14,
   "id": "b4dc9adb-f9dc-4adb-bc96-82620b3f57c0",
   "metadata": {
    "tags": []
   },
   "outputs": [],
   "source": [
    "# df.groupby([df.customer_ID]).agg({'Date':'count'})['Date'].value_counts()"
   ]
  },
  {
   "cell_type": "markdown",
   "id": "841cec05-ef2f-42b0-ba09-8905689a3a18",
   "metadata": {},
   "source": [
    "#### Null values per variable"
   ]
  },
  {
   "cell_type": "code",
   "execution_count": 15,
   "id": "c9a22093-a71d-4ad2-bdc8-010dc8793395",
   "metadata": {},
   "outputs": [],
   "source": [
    "nulls={}\n",
    "for col in df.column_names:\n",
    "    nulls[col]=df[col].isna().sum().sum()"
   ]
  },
  {
   "cell_type": "code",
   "execution_count": 16,
   "id": "9b3ad5c5-5496-4a28-b019-c1d5a225f4d5",
   "metadata": {
    "tags": []
   },
   "outputs": [
    {
     "data": {
      "text/plain": [
       "[('customer_ID', 0),\n",
       " ('Date', 0),\n",
       " ('D_39', 0),\n",
       " ('B_1', 0),\n",
       " ('R_1', 0),\n",
       " ('B_4', 0),\n",
       " ('B_5', 0),\n",
       " ('R_2', 0),\n",
       " ('D_47', 0),\n",
       " ('B_7', 0),\n",
       " ('D_51', 0),\n",
       " ('B_9', 0),\n",
       " ('R_3', 0),\n",
       " ('B_10', 0),\n",
       " ('S_5', 0),\n",
       " ('B_11', 0),\n",
       " ('S_6', 0),\n",
       " ('R_4', 0),\n",
       " ('B_12', 0),\n",
       " ('S_8', 0),\n",
       " ('R_5', 0),\n",
       " ('D_58', 0),\n",
       " ('B_14', 0),\n",
       " ('D_60', 0),\n",
       " ('S_11', 0),\n",
       " ('D_63', 0),\n",
       " ('D_65', 0),\n",
       " ('B_18', 0),\n",
       " ('S_12', 0),\n",
       " ('R_6', 0),\n",
       " ('S_13', 0),\n",
       " ('B_21', 0),\n",
       " ('D_71', 0),\n",
       " ('S_15', 0),\n",
       " ('B_23', 0),\n",
       " ('P_4', 0),\n",
       " ('D_75', 0),\n",
       " ('B_24', 0),\n",
       " ('R_8', 0),\n",
       " ('S_16', 0),\n",
       " ('R_10', 0),\n",
       " ('R_11', 0),\n",
       " ('S_17', 0),\n",
       " ('B_28', 0),\n",
       " ('R_13', 0),\n",
       " ('R_15', 0),\n",
       " ('R_16', 0),\n",
       " ('S_18', 0),\n",
       " ('D_86', 0),\n",
       " ('R_17', 0),\n",
       " ('R_18', 0),\n",
       " ('B_31', 0),\n",
       " ('S_19', 0),\n",
       " ('R_19', 0),\n",
       " ('B_32', 0),\n",
       " ('S_20', 0),\n",
       " ('R_21', 0),\n",
       " ('R_22', 0),\n",
       " ('R_23', 0),\n",
       " ('D_92', 0),\n",
       " ('D_93', 0),\n",
       " ('D_94', 0),\n",
       " ('R_24', 0),\n",
       " ('R_25', 0),\n",
       " ('D_96', 0),\n",
       " ('B_36', 0),\n",
       " ('D_127', 0),\n",
       " ('R_28', 0),\n",
       " ('Encode_D_63_CL', 0),\n",
       " ('Encode_D_63_CO', 0),\n",
       " ('Encode_D_63_CR', 0),\n",
       " ('Encode_D_63_XL', 0),\n",
       " ('Encode_D_63_XM', 0),\n",
       " ('Encode_D_63_XZ', 0),\n",
       " ('target', 0),\n",
       " ('R_7', 1),\n",
       " ('R_14', 1),\n",
       " ('B_40', 53),\n",
       " ('R_12', 56),\n",
       " ('B_37', 56),\n",
       " ('R_20', 75),\n",
       " ('B_6', 233),\n",
       " ('S_23', 445),\n",
       " ('S_26', 634),\n",
       " ('B_41', 690),\n",
       " ('D_109', 1597),\n",
       " ('B_2', 2016),\n",
       " ('D_41', 2016),\n",
       " ('B_3', 2016),\n",
       " ('D_54', 2016),\n",
       " ('B_16', 2016),\n",
       " ('B_19', 2016),\n",
       " ('B_20', 2016),\n",
       " ('B_22', 2016),\n",
       " ('B_26', 2016),\n",
       " ('B_27', 2016),\n",
       " ('B_30', 2016),\n",
       " ('B_33', 2016),\n",
       " ('B_38', 2016),\n",
       " ('D_45', 2017),\n",
       " ('D_112', 2650),\n",
       " ('B_15', 6923),\n",
       " ('B_25', 6923),\n",
       " ('S_25', 12847),\n",
       " ('S_24', 18593),\n",
       " ('S_22', 19024),\n",
       " ('D_74', 21773),\n",
       " ('D_80', 21773),\n",
       " ('B_8', 22268),\n",
       " ('D_72', 23708),\n",
       " ('D_81', 25687),\n",
       " ('D_52', 29563),\n",
       " ('D_84', 29563),\n",
       " ('D_89', 29563),\n",
       " ('D_140', 40632),\n",
       " ('D_102', 40655),\n",
       " ('D_144', 40727),\n",
       " ('D_133', 42716),\n",
       " ('P_2', 45985),\n",
       " ('B_13', 49519),\n",
       " ('D_79', 75939),\n",
       " ('D_70', 94917),\n",
       " ('D_103', 101548),\n",
       " ('D_104', 101548),\n",
       " ('D_107', 101548),\n",
       " ('D_128', 101548),\n",
       " ('D_129', 101548),\n",
       " ('D_130', 101548),\n",
       " ('D_131', 101548),\n",
       " ('D_139', 101548),\n",
       " ('D_141', 101548),\n",
       " ('D_143', 101548),\n",
       " ('D_145', 101548),\n",
       " ('D_59', 106725),\n",
       " ('D_126', 116816),\n",
       " ('R_27', 128703),\n",
       " ('D_91', 157216),\n",
       " ('D_113', 176716),\n",
       " ('D_114', 176716),\n",
       " ('D_115', 176716),\n",
       " ('D_116', 176716),\n",
       " ('D_117', 176716),\n",
       " ('D_118', 176716),\n",
       " ('D_119', 176716),\n",
       " ('D_120', 176716),\n",
       " ('D_121', 176716),\n",
       " ('D_122', 176716),\n",
       " ('D_123', 176716),\n",
       " ('D_124', 176716),\n",
       " ('D_125', 176716),\n",
       " ('D_55', 184803),\n",
       " ('D_69', 194473),\n",
       " ('D_83', 194473),\n",
       " ('D_68', 216503),\n",
       " ('D_64', 217442),\n",
       " ('D_44', 274319),\n",
       " ('D_78', 274319),\n",
       " ('P_3', 301492),\n",
       " ('D_61', 598052),\n",
       " ('D_48', 718725),\n",
       " ('D_62', 758161),\n",
       " ('S_3', 1020544),\n",
       " ('S_7', 1020544),\n",
       " ('D_46', 1211699),\n",
       " ('S_27', 1400935),\n",
       " ('D_43', 1658396),\n",
       " ('D_77', 2513912),\n",
       " ('S_9', 2933643),\n",
       " ('D_56', 2990943),\n",
       " ('D_105', 3021431),\n",
       " ('B_17', 3137598),\n",
       " ('D_50', 3142402),\n",
       " ('D_82', 4058614),\n",
       " ('D_53', 4084585),\n",
       " ('D_142', 4587043),\n",
       " ('D_42', 4740137),\n",
       " ('D_66', 4908097),\n",
       " ('D_76', 4908954),\n",
       " ('R_26', 4922146),\n",
       " ('D_49', 4985917),\n",
       " ('D_132', 4988874),\n",
       " ('D_106', 4990102),\n",
       " ('B_29', 5150035),\n",
       " ('R_9', 5218918),\n",
       " ('D_134', 5336752),\n",
       " ('D_135', 5336752),\n",
       " ('D_136', 5336752),\n",
       " ('D_137', 5336752),\n",
       " ('D_138', 5336752),\n",
       " ('B_42', 5459973),\n",
       " ('D_73', 5475595),\n",
       " ('B_39', 5497819),\n",
       " ('D_110', 5500117),\n",
       " ('D_111', 5500117),\n",
       " ('D_108', 5502513),\n",
       " ('D_88', 5525447),\n",
       " ('D_87', 5527586)]"
      ]
     },
     "execution_count": 16,
     "metadata": {},
     "output_type": "execute_result"
    }
   ],
   "source": [
    "sort_list=sorted(nulls.items(), key=lambda x: x[1])"
   ]
  },
  {
   "cell_type": "markdown",
   "id": "a8e146aa-7b87-41f6-91ce-ee010551b7f6",
   "metadata": {},
   "source": [
    "#### List of cols to use"
   ]
  },
  {
   "cell_type": "code",
   "execution_count": 17,
   "id": "ce2bf1ab-a93f-4fb3-bbda-ec8fb410337c",
   "metadata": {},
   "outputs": [],
   "source": [
    "cols_use=[]\n",
    "for col in df.column_names:\n",
    "    if (nulls[col]==0 and col not in cat_cols) or (col in encoded_cols):\n",
    "        cols_use.append(col)"
   ]
  },
  {
   "cell_type": "code",
   "execution_count": 18,
   "id": "3453b840-be6f-4bd2-beb0-93889018a471",
   "metadata": {},
   "outputs": [],
   "source": [
    "new_cols=cols_use\n",
    "new_cols.remove('customer_ID')\n",
    "new_cols.remove('Date')\n",
    "new_cols.remove('target')"
   ]
  },
  {
   "cell_type": "markdown",
   "id": "e83e4fde-64d0-47a7-8b13-9429e3ec0b9e",
   "metadata": {},
   "source": [
    "#### Obtain the latest statement info for each customer"
   ]
  },
  {
   "cell_type": "code",
   "execution_count": 19,
   "id": "7c0f2d3a-a61c-4929-8ba3-3332b02edff0",
   "metadata": {
    "tags": []
   },
   "outputs": [],
   "source": [
    "df_temp=df\n",
    "# Code to get last value for each customer\n",
    "new=df_temp.groupby([df.customer_ID],sort=True).agg({'Date':'max'})\n",
    "df_temp=df_temp.join(new,on='customer_ID',rsuffix='_max')\n",
    "df=df_temp[df_temp.Date == df_temp.Date_max].drop(['customer_ID_max','Date_max'])"
   ]
  },
  {
   "cell_type": "code",
   "execution_count": 20,
   "id": "2c1072e4-609a-4327-bf2b-97a2f0b1d2d8",
   "metadata": {},
   "outputs": [],
   "source": [
    "# df.Date.min()"
   ]
  },
  {
   "cell_type": "code",
   "execution_count": 21,
   "id": "cd7ced19-3772-42d9-9dac-277d47ac5b80",
   "metadata": {},
   "outputs": [],
   "source": [
    "# df.Date.max()"
   ]
  },
  {
   "cell_type": "code",
   "execution_count": 22,
   "id": "76e1c81a-848d-4aaf-8ff7-4cd1500f1fd1",
   "metadata": {},
   "outputs": [],
   "source": [
    "# df=df[cols_use].groupby(df.customer_ID,agg='mean')\n",
    "# df=df.drop('Date_mean',inplace=True)"
   ]
  },
  {
   "cell_type": "markdown",
   "id": "9e9112c2-9199-4e17-bb45-b4d8e0279d67",
   "metadata": {},
   "source": [
    "#### Convert to pandas dataframe (vaex.ml wrapped tensorflow doesn't support GPU, pandas does)"
   ]
  },
  {
   "cell_type": "code",
   "execution_count": 23,
   "id": "2128f228-87b6-4705-a15f-0de57ab76718",
   "metadata": {},
   "outputs": [],
   "source": [
    "df=df.to_pandas_df()"
   ]
  },
  {
   "cell_type": "code",
   "execution_count": 24,
   "id": "2e1de879-a87c-49aa-a3e6-766febaf78e4",
   "metadata": {},
   "outputs": [
    {
     "data": {
      "text/html": [
       "<div>\n",
       "<style scoped>\n",
       "    .dataframe tbody tr th:only-of-type {\n",
       "        vertical-align: middle;\n",
       "    }\n",
       "\n",
       "    .dataframe tbody tr th {\n",
       "        vertical-align: top;\n",
       "    }\n",
       "\n",
       "    .dataframe thead th {\n",
       "        text-align: right;\n",
       "    }\n",
       "</style>\n",
       "<table border=\"1\" class=\"dataframe\">\n",
       "  <thead>\n",
       "    <tr style=\"text-align: right;\">\n",
       "      <th></th>\n",
       "      <th>customer_ID</th>\n",
       "      <th>Date</th>\n",
       "      <th>P_2</th>\n",
       "      <th>D_39</th>\n",
       "      <th>B_1</th>\n",
       "      <th>B_2</th>\n",
       "      <th>R_1</th>\n",
       "      <th>S_3</th>\n",
       "      <th>D_41</th>\n",
       "      <th>B_3</th>\n",
       "      <th>...</th>\n",
       "      <th>D_143</th>\n",
       "      <th>D_144</th>\n",
       "      <th>D_145</th>\n",
       "      <th>Encode_D_63_CL</th>\n",
       "      <th>Encode_D_63_CO</th>\n",
       "      <th>Encode_D_63_CR</th>\n",
       "      <th>Encode_D_63_XL</th>\n",
       "      <th>Encode_D_63_XM</th>\n",
       "      <th>Encode_D_63_XZ</th>\n",
       "      <th>target</th>\n",
       "    </tr>\n",
       "  </thead>\n",
       "  <tbody>\n",
       "    <tr>\n",
       "      <th>0</th>\n",
       "      <td>0000099d6bd597052cdcda90ffabf56573fe9d7c79be5f...</td>\n",
       "      <td>2018-03-13</td>\n",
       "      <td>0.934745</td>\n",
       "      <td>0.009119</td>\n",
       "      <td>0.009382</td>\n",
       "      <td>1.007647</td>\n",
       "      <td>0.006104</td>\n",
       "      <td>0.135021</td>\n",
       "      <td>0.001604</td>\n",
       "      <td>0.007174</td>\n",
       "      <td>...</td>\n",
       "      <td>0.005810</td>\n",
       "      <td>0.002970</td>\n",
       "      <td>0.008533</td>\n",
       "      <td>0</td>\n",
       "      <td>0</td>\n",
       "      <td>1</td>\n",
       "      <td>0</td>\n",
       "      <td>0</td>\n",
       "      <td>0</td>\n",
       "      <td>0</td>\n",
       "    </tr>\n",
       "    <tr>\n",
       "      <th>1</th>\n",
       "      <td>00000fd6641609c6ece5454664794f0340ad84dddce9a2...</td>\n",
       "      <td>2018-03-25</td>\n",
       "      <td>0.880519</td>\n",
       "      <td>0.178126</td>\n",
       "      <td>0.034684</td>\n",
       "      <td>1.004028</td>\n",
       "      <td>0.006911</td>\n",
       "      <td>0.165509</td>\n",
       "      <td>0.005552</td>\n",
       "      <td>0.005068</td>\n",
       "      <td>...</td>\n",
       "      <td>0.003284</td>\n",
       "      <td>0.003169</td>\n",
       "      <td>0.008514</td>\n",
       "      <td>0</td>\n",
       "      <td>1</td>\n",
       "      <td>0</td>\n",
       "      <td>0</td>\n",
       "      <td>0</td>\n",
       "      <td>0</td>\n",
       "      <td>0</td>\n",
       "    </tr>\n",
       "  </tbody>\n",
       "</table>\n",
       "<p>2 rows × 197 columns</p>\n",
       "</div>"
      ],
      "text/plain": [
       "                                         customer_ID       Date       P_2  \\\n",
       "0  0000099d6bd597052cdcda90ffabf56573fe9d7c79be5f... 2018-03-13  0.934745   \n",
       "1  00000fd6641609c6ece5454664794f0340ad84dddce9a2... 2018-03-25  0.880519   \n",
       "\n",
       "       D_39       B_1       B_2       R_1       S_3      D_41       B_3  ...  \\\n",
       "0  0.009119  0.009382  1.007647  0.006104  0.135021  0.001604  0.007174  ...   \n",
       "1  0.178126  0.034684  1.004028  0.006911  0.165509  0.005552  0.005068  ...   \n",
       "\n",
       "      D_143     D_144     D_145  Encode_D_63_CL  Encode_D_63_CO  \\\n",
       "0  0.005810  0.002970  0.008533               0               0   \n",
       "1  0.003284  0.003169  0.008514               0               1   \n",
       "\n",
       "   Encode_D_63_CR  Encode_D_63_XL  Encode_D_63_XM  Encode_D_63_XZ  target  \n",
       "0               1               0               0               0       0  \n",
       "1               0               0               0               0       0  \n",
       "\n",
       "[2 rows x 197 columns]"
      ]
     },
     "execution_count": 24,
     "metadata": {},
     "output_type": "execute_result"
    }
   ],
   "source": [
    "import pandas as pd\n",
    "df.head(2)"
   ]
  },
  {
   "cell_type": "markdown",
   "id": "5fa02f35-6778-4373-89cb-59707215369f",
   "metadata": {},
   "source": [
    "#### Split train and valid"
   ]
  },
  {
   "cell_type": "code",
   "execution_count": 25,
   "id": "c451efcf-1f92-4be4-9b3b-a136f30c536d",
   "metadata": {},
   "outputs": [],
   "source": [
    "from sklearn.model_selection import train_test_split\n",
    "X_train, X_valid, Y_train, Y_valid=train_test_split(df[new_cols],df.target,test_size=0.3,stratify=df.target)"
   ]
  },
  {
   "cell_type": "markdown",
   "id": "ab9b5a88-8806-40c1-b8f1-d3d1f72d2bb2",
   "metadata": {},
   "source": [
    "#### Build and fit neural network"
   ]
  },
  {
   "cell_type": "code",
   "execution_count": 27,
   "id": "c57af70d-b057-4d09-92ec-902209442628",
   "metadata": {},
   "outputs": [],
   "source": [
    "import tensorflow as tf\n",
    "from tensorflow.keras import layers\n",
    "from tensorflow import keras"
   ]
  },
  {
   "cell_type": "code",
   "execution_count": 28,
   "id": "f7fc70f5-1043-4c46-9cd1-eb40516cf19c",
   "metadata": {},
   "outputs": [],
   "source": [
    "early_stopping = keras.callbacks.EarlyStopping(\n",
    "    patience=5,\n",
    "    min_delta=0.001,\n",
    "    restore_best_weights=True)"
   ]
  },
  {
   "cell_type": "code",
   "execution_count": 61,
   "id": "fc361225-9864-4900-b189-ce0f654601a4",
   "metadata": {},
   "outputs": [],
   "source": [
    "nn_model = keras.Sequential()\n",
    "nn_model.add(layers.BatchNormalization(input_shape=[len(new_cols)]))\n",
    "nn_model.add(layers.Dense(32, activation='relu'))\n",
    "nn_model.add(layers.BatchNormalization()),\n",
    "nn_model.add(layers.Dropout(rate=0.3)),\n",
    "nn_model.add(layers.Dense(8, activation='relu'))\n",
    "nn_model.add(layers.BatchNormalization()),\n",
    "nn_model.add(layers.Dropout(rate=0.3)),\n",
    "nn_model.add(layers.Dense(1,activation='sigmoid'))\n",
    "\n",
    "nn_model.compile(optimizer='adam', loss='binary_crossentropy',metrics=['binary_accuracy'])"
   ]
  },
  {
   "cell_type": "code",
   "execution_count": 62,
   "id": "1766d764-f6db-4ad3-a038-a3e944390f71",
   "metadata": {
    "tags": []
   },
   "outputs": [
    {
     "name": "stdout",
     "output_type": "stream",
     "text": [
      "Epoch 1/100\n",
      "33/33 [==============================] - 1s 20ms/step - loss: 0.7419 - binary_accuracy: 0.5827 - val_loss: 0.5612 - val_binary_accuracy: 0.8262\n",
      "Epoch 2/100\n",
      "33/33 [==============================] - 0s 13ms/step - loss: 0.5332 - binary_accuracy: 0.7568 - val_loss: 0.4727 - val_binary_accuracy: 0.8580\n",
      "Epoch 3/100\n",
      "33/33 [==============================] - 0s 13ms/step - loss: 0.4674 - binary_accuracy: 0.7994 - val_loss: 0.4078 - val_binary_accuracy: 0.8662\n",
      "Epoch 4/100\n",
      "33/33 [==============================] - 0s 13ms/step - loss: 0.4257 - binary_accuracy: 0.8261 - val_loss: 0.3633 - val_binary_accuracy: 0.8699\n",
      "Epoch 5/100\n",
      "33/33 [==============================] - 0s 13ms/step - loss: 0.3950 - binary_accuracy: 0.8425 - val_loss: 0.3354 - val_binary_accuracy: 0.8720\n",
      "Epoch 6/100\n",
      "33/33 [==============================] - 0s 13ms/step - loss: 0.3715 - binary_accuracy: 0.8532 - val_loss: 0.3172 - val_binary_accuracy: 0.8742\n",
      "Epoch 7/100\n",
      "33/33 [==============================] - 0s 13ms/step - loss: 0.3537 - binary_accuracy: 0.8595 - val_loss: 0.3051 - val_binary_accuracy: 0.8759\n",
      "Epoch 8/100\n",
      "33/33 [==============================] - 0s 13ms/step - loss: 0.3405 - binary_accuracy: 0.8644 - val_loss: 0.2965 - val_binary_accuracy: 0.8770\n",
      "Epoch 9/100\n",
      "33/33 [==============================] - 0s 12ms/step - loss: 0.3302 - binary_accuracy: 0.8668 - val_loss: 0.2902 - val_binary_accuracy: 0.8777\n",
      "Epoch 10/100\n",
      "33/33 [==============================] - 0s 13ms/step - loss: 0.3212 - binary_accuracy: 0.8688 - val_loss: 0.2850 - val_binary_accuracy: 0.8780\n",
      "Epoch 11/100\n",
      "33/33 [==============================] - 0s 13ms/step - loss: 0.3138 - binary_accuracy: 0.8703 - val_loss: 0.2811 - val_binary_accuracy: 0.8786\n",
      "Epoch 12/100\n",
      "33/33 [==============================] - 0s 13ms/step - loss: 0.3086 - binary_accuracy: 0.8714 - val_loss: 0.2777 - val_binary_accuracy: 0.8788\n",
      "Epoch 13/100\n",
      "33/33 [==============================] - 0s 13ms/step - loss: 0.3048 - binary_accuracy: 0.8716 - val_loss: 0.2751 - val_binary_accuracy: 0.8789\n",
      "Epoch 14/100\n",
      "33/33 [==============================] - 0s 13ms/step - loss: 0.3011 - binary_accuracy: 0.8718 - val_loss: 0.2728 - val_binary_accuracy: 0.8790\n",
      "Epoch 15/100\n",
      "33/33 [==============================] - 0s 12ms/step - loss: 0.2980 - binary_accuracy: 0.8724 - val_loss: 0.2715 - val_binary_accuracy: 0.8785\n",
      "Epoch 16/100\n",
      "33/33 [==============================] - 0s 13ms/step - loss: 0.2953 - binary_accuracy: 0.8727 - val_loss: 0.2701 - val_binary_accuracy: 0.8786\n",
      "Epoch 17/100\n",
      "33/33 [==============================] - 0s 13ms/step - loss: 0.2933 - binary_accuracy: 0.8733 - val_loss: 0.2689 - val_binary_accuracy: 0.8787\n",
      "Epoch 18/100\n",
      "33/33 [==============================] - 0s 13ms/step - loss: 0.2910 - binary_accuracy: 0.8739 - val_loss: 0.2678 - val_binary_accuracy: 0.8787\n",
      "Epoch 19/100\n",
      "33/33 [==============================] - 0s 13ms/step - loss: 0.2900 - binary_accuracy: 0.8739 - val_loss: 0.2670 - val_binary_accuracy: 0.8789\n",
      "Epoch 20/100\n",
      "33/33 [==============================] - 0s 12ms/step - loss: 0.2882 - binary_accuracy: 0.8740 - val_loss: 0.2663 - val_binary_accuracy: 0.8790\n",
      "Epoch 21/100\n",
      "33/33 [==============================] - 0s 13ms/step - loss: 0.2869 - binary_accuracy: 0.8738 - val_loss: 0.2660 - val_binary_accuracy: 0.8789\n",
      "Epoch 22/100\n",
      "33/33 [==============================] - 0s 13ms/step - loss: 0.2860 - binary_accuracy: 0.8743 - val_loss: 0.2655 - val_binary_accuracy: 0.8791\n",
      "Epoch 23/100\n",
      "33/33 [==============================] - 0s 13ms/step - loss: 0.2860 - binary_accuracy: 0.8742 - val_loss: 0.2652 - val_binary_accuracy: 0.8788\n",
      "Epoch 24/100\n",
      "33/33 [==============================] - 0s 13ms/step - loss: 0.2848 - binary_accuracy: 0.8742 - val_loss: 0.2648 - val_binary_accuracy: 0.8793\n",
      "Epoch 25/100\n",
      "33/33 [==============================] - 0s 12ms/step - loss: 0.2838 - binary_accuracy: 0.8745 - val_loss: 0.2647 - val_binary_accuracy: 0.8791\n",
      "Epoch 26/100\n",
      "33/33 [==============================] - 0s 13ms/step - loss: 0.2829 - binary_accuracy: 0.8751 - val_loss: 0.2645 - val_binary_accuracy: 0.8792\n",
      "Epoch 27/100\n",
      "33/33 [==============================] - 0s 13ms/step - loss: 0.2823 - binary_accuracy: 0.8751 - val_loss: 0.2643 - val_binary_accuracy: 0.8795\n",
      "Epoch 28/100\n",
      "33/33 [==============================] - 0s 13ms/step - loss: 0.2819 - binary_accuracy: 0.8753 - val_loss: 0.2640 - val_binary_accuracy: 0.8796\n",
      "Epoch 29/100\n",
      "33/33 [==============================] - 0s 13ms/step - loss: 0.2812 - binary_accuracy: 0.8756 - val_loss: 0.2639 - val_binary_accuracy: 0.8796\n",
      "Epoch 30/100\n",
      "33/33 [==============================] - 0s 13ms/step - loss: 0.2806 - binary_accuracy: 0.8760 - val_loss: 0.2637 - val_binary_accuracy: 0.8799\n",
      "Epoch 31/100\n",
      "33/33 [==============================] - 0s 13ms/step - loss: 0.2802 - binary_accuracy: 0.8761 - val_loss: 0.2636 - val_binary_accuracy: 0.8798\n",
      "Epoch 32/100\n",
      "33/33 [==============================] - 0s 13ms/step - loss: 0.2800 - binary_accuracy: 0.8763 - val_loss: 0.2634 - val_binary_accuracy: 0.8801\n",
      "Epoch 33/100\n",
      "33/33 [==============================] - 0s 13ms/step - loss: 0.2793 - binary_accuracy: 0.8762 - val_loss: 0.2633 - val_binary_accuracy: 0.8799\n"
     ]
    },
    {
     "data": {
      "text/plain": [
       "<keras.callbacks.History at 0x29ff83ae850>"
      ]
     },
     "execution_count": 62,
     "metadata": {},
     "output_type": "execute_result"
    }
   ],
   "source": [
    "nn_model.fit(X_train,Y_train, validation_data=(X_valid,Y_valid), epochs=100,batch_size=10000,\n",
    "             callbacks=[early_stopping])"
   ]
  },
  {
   "cell_type": "markdown",
   "id": "e9a93682-f8ee-4aa4-9ca7-c044716689df",
   "metadata": {},
   "source": [
    "#### Clear memory"
   ]
  },
  {
   "cell_type": "code",
   "execution_count": 30,
   "id": "0eea417a-aaff-49cb-a189-082c809e3fd2",
   "metadata": {},
   "outputs": [],
   "source": [
    "import gc\n",
    "del [[df,X_train,Y_train]]\n",
    "gc.collect()\n",
    "df=pd.DataFrame()\n",
    "X_train=pd.DataFrame()\n",
    "# X_valid=pd.DataFrame()\n",
    "Y_train=pd.DataFrame()\n",
    "# Y_valid=pd.DataFrame()"
   ]
  },
  {
   "cell_type": "markdown",
   "id": "cb12aab7-e858-47a5-b43d-d043dcc70f63",
   "metadata": {},
   "source": [
    "#### Load and preprocess test data"
   ]
  },
  {
   "cell_type": "code",
   "execution_count": 31,
   "id": "91bfcdd2-c803-425b-8a13-700030b8d6cd",
   "metadata": {},
   "outputs": [],
   "source": [
    "# from datetime import datetime\n",
    "# d_parser = lambda x: datetime.strptime(x, '%Y-%m-%d')\n",
    "# test= vaex.from_csv('test_data.csv', convert=True, chunk_size=100_000, parse_dates=['S_2'], \n",
    "#                   date_parser=d_parser)\n",
    "test=vaex.open('test_data.csv.hdf5')"
   ]
  },
  {
   "cell_type": "code",
   "execution_count": 32,
   "id": "12145d16-6b7b-4aa6-b2fa-004367039433",
   "metadata": {},
   "outputs": [
    {
     "data": {
      "text/plain": [
       "'Date'"
      ]
     },
     "execution_count": 32,
     "metadata": {},
     "output_type": "execute_result"
    }
   ],
   "source": [
    "test.rename('S_2','Date')"
   ]
  },
  {
   "cell_type": "code",
   "execution_count": 33,
   "id": "3107d847-aa19-40c3-b1e5-c76c19e0d6d0",
   "metadata": {},
   "outputs": [],
   "source": [
    "test=OneHotEncoder.fit_transform(test)"
   ]
  },
  {
   "cell_type": "code",
   "execution_count": 34,
   "id": "fcf1880d-af91-4410-8eba-342348511afd",
   "metadata": {},
   "outputs": [
    {
     "data": {
      "text/html": [
       "<table>\n",
       "<thead>\n",
       "<tr><th>#                            </th><th>customer_ID                                        </th><th>Date                         </th><th style=\"text-align: right;\">     P_2</th><th style=\"text-align: right;\">      D_39</th><th style=\"text-align: right;\">      B_1</th><th style=\"text-align: right;\">     B_2</th><th style=\"text-align: right;\">       R_1</th><th style=\"text-align: right;\">     S_3</th><th style=\"text-align: right;\">       D_41</th><th style=\"text-align: right;\">       B_3</th><th style=\"text-align: right;\">    D_42</th><th style=\"text-align: right;\">  D_43</th><th style=\"text-align: right;\">      D_44</th><th style=\"text-align: right;\">     B_4</th><th style=\"text-align: right;\">      D_45</th><th style=\"text-align: right;\">       B_5</th><th style=\"text-align: right;\">       R_2</th><th style=\"text-align: right;\">  D_46</th><th style=\"text-align: right;\">    D_47</th><th style=\"text-align: right;\">    D_48</th><th style=\"text-align: right;\">  D_49</th><th style=\"text-align: right;\">     B_6</th><th style=\"text-align: right;\">     B_7</th><th style=\"text-align: right;\">    B_8</th><th style=\"text-align: right;\">  D_50</th><th style=\"text-align: right;\">      D_51</th><th style=\"text-align: right;\">       B_9</th><th style=\"text-align: right;\">     R_3</th><th style=\"text-align: right;\">    D_52</th><th style=\"text-align: right;\">  P_3</th><th style=\"text-align: right;\">       B_10</th><th style=\"text-align: right;\">  D_53</th><th style=\"text-align: right;\">       S_5</th><th style=\"text-align: right;\">      B_11</th><th style=\"text-align: right;\">    S_6</th><th style=\"text-align: right;\">   D_54</th><th style=\"text-align: right;\">        R_4</th><th style=\"text-align: right;\">     S_7</th><th style=\"text-align: right;\">    B_12</th><th style=\"text-align: right;\">     S_8</th><th style=\"text-align: right;\">    D_55</th><th style=\"text-align: right;\">  D_56</th><th style=\"text-align: right;\">      B_13</th><th style=\"text-align: right;\">       R_5</th><th style=\"text-align: right;\">    D_58</th><th style=\"text-align: right;\">        S_9</th><th style=\"text-align: right;\">     B_14</th><th style=\"text-align: right;\">  D_59</th><th style=\"text-align: right;\">     D_60</th><th style=\"text-align: right;\">    D_61</th><th style=\"text-align: right;\">     B_15</th><th style=\"text-align: right;\">   S_11</th><th style=\"text-align: right;\">     D_62</th><th>D_63  </th><th>D_64  </th><th style=\"text-align: right;\">      D_65</th><th style=\"text-align: right;\">       B_16</th><th style=\"text-align: right;\">  B_17</th><th style=\"text-align: right;\">    B_18</th><th style=\"text-align: right;\">       B_19</th><th style=\"text-align: right;\">  D_66</th><th style=\"text-align: right;\">      B_20</th><th style=\"text-align: right;\">  D_68</th><th style=\"text-align: right;\">    S_12</th><th style=\"text-align: right;\">       R_6</th><th style=\"text-align: right;\">    S_13</th><th style=\"text-align: right;\">      B_21</th><th style=\"text-align: right;\">  D_69</th><th style=\"text-align: right;\">      B_22</th><th style=\"text-align: right;\">         D_70</th><th style=\"text-align: right;\">     D_71</th><th style=\"text-align: right;\">      D_72</th><th style=\"text-align: right;\">    S_15</th><th style=\"text-align: right;\">    B_23</th><th style=\"text-align: right;\">    D_73</th><th style=\"text-align: right;\">     P_4</th><th style=\"text-align: right;\">    D_74</th><th style=\"text-align: right;\">   D_75</th><th style=\"text-align: right;\">  D_76</th><th style=\"text-align: right;\">      B_24</th><th style=\"text-align: right;\">       R_7</th><th style=\"text-align: right;\">        D_77</th><th style=\"text-align: right;\">      B_25</th><th style=\"text-align: right;\">      B_26</th><th style=\"text-align: right;\">      D_78</th><th style=\"text-align: right;\">        D_79</th><th style=\"text-align: right;\">       R_8</th><th style=\"text-align: right;\">  R_9</th><th style=\"text-align: right;\">      S_16</th><th style=\"text-align: right;\">       D_80</th><th style=\"text-align: right;\">      R_10</th><th style=\"text-align: right;\">      R_11</th><th style=\"text-align: right;\">      B_27</th><th style=\"text-align: right;\">      D_81</th><th style=\"text-align: right;\">    D_82</th><th style=\"text-align: right;\">      S_17</th><th style=\"text-align: right;\">   R_12</th><th style=\"text-align: right;\">    B_28</th><th style=\"text-align: right;\">      R_13</th><th style=\"text-align: right;\">  D_83</th><th style=\"text-align: right;\">      R_14</th><th style=\"text-align: right;\">      R_15</th><th style=\"text-align: right;\">      D_84</th><th style=\"text-align: right;\">      R_16</th><th style=\"text-align: right;\">  B_29</th><th style=\"text-align: right;\">  B_30</th><th style=\"text-align: right;\">      S_18</th><th style=\"text-align: right;\">      D_86</th><th style=\"text-align: right;\">  D_87</th><th style=\"text-align: right;\">       R_17</th><th style=\"text-align: right;\">      R_18</th><th style=\"text-align: right;\">  D_88</th><th style=\"text-align: right;\">  B_31</th><th style=\"text-align: right;\">      S_19</th><th style=\"text-align: right;\">      R_19</th><th style=\"text-align: right;\">      B_32</th><th style=\"text-align: right;\">      S_20</th><th style=\"text-align: right;\">      R_20</th><th style=\"text-align: right;\">       R_21</th><th style=\"text-align: right;\">   B_33</th><th style=\"text-align: right;\">      D_89</th><th style=\"text-align: right;\">      R_22</th><th style=\"text-align: right;\">       R_23</th><th style=\"text-align: right;\">  D_91</th><th style=\"text-align: right;\">      D_92</th><th style=\"text-align: right;\">       D_93</th><th style=\"text-align: right;\">      D_94</th><th style=\"text-align: right;\">      R_24</th><th style=\"text-align: right;\">     R_25</th><th style=\"text-align: right;\">      D_96</th><th style=\"text-align: right;\">    S_22</th><th style=\"text-align: right;\">    S_23</th><th style=\"text-align: right;\">    S_24</th><th style=\"text-align: right;\">    S_25</th><th style=\"text-align: right;\">      S_26</th><th style=\"text-align: right;\">     D_102</th><th style=\"text-align: right;\">       D_103</th><th style=\"text-align: right;\">       D_104</th><th style=\"text-align: right;\">  D_105</th><th style=\"text-align: right;\">  D_106</th><th style=\"text-align: right;\">       D_107</th><th style=\"text-align: right;\">       B_36</th><th style=\"text-align: right;\">      B_37</th><th style=\"text-align: right;\">  R_26</th><th style=\"text-align: right;\">     R_27</th><th style=\"text-align: right;\">  B_38</th><th style=\"text-align: right;\">  D_108</th><th style=\"text-align: right;\">      D_109</th><th style=\"text-align: right;\">  D_110</th><th style=\"text-align: right;\">  D_111</th><th style=\"text-align: right;\">  B_39</th><th style=\"text-align: right;\">  D_112</th><th style=\"text-align: right;\">    B_40</th><th style=\"text-align: right;\">      S_27</th><th style=\"text-align: right;\">  D_113</th><th style=\"text-align: right;\">  D_114</th><th style=\"text-align: right;\">  D_115</th><th style=\"text-align: right;\">  D_116</th><th style=\"text-align: right;\">  D_117</th><th style=\"text-align: right;\">  D_118</th><th style=\"text-align: right;\">  D_119</th><th style=\"text-align: right;\">  D_120</th><th style=\"text-align: right;\">  D_121</th><th style=\"text-align: right;\">  D_122</th><th style=\"text-align: right;\">  D_123</th><th style=\"text-align: right;\">  D_124</th><th style=\"text-align: right;\">  D_125</th><th style=\"text-align: right;\">  D_126</th><th style=\"text-align: right;\">     D_127</th><th style=\"text-align: right;\">       D_128</th><th style=\"text-align: right;\">      D_129</th><th style=\"text-align: right;\">      B_41</th><th style=\"text-align: right;\">  B_42</th><th style=\"text-align: right;\">      D_130</th><th style=\"text-align: right;\">       D_131</th><th style=\"text-align: right;\">  D_132</th><th style=\"text-align: right;\">     D_133</th><th style=\"text-align: right;\">      R_28</th><th style=\"text-align: right;\">  D_134</th><th style=\"text-align: right;\">  D_135</th><th style=\"text-align: right;\">  D_136</th><th style=\"text-align: right;\">  D_137</th><th style=\"text-align: right;\">  D_138</th><th style=\"text-align: right;\">        D_139</th><th style=\"text-align: right;\">     D_140</th><th style=\"text-align: right;\">       D_141</th><th style=\"text-align: right;\">  D_142</th><th style=\"text-align: right;\">       D_143</th><th style=\"text-align: right;\">     D_144</th><th style=\"text-align: right;\">       D_145</th><th style=\"text-align: right;\">  Encode_D_63_CL</th><th style=\"text-align: right;\">  Encode_D_63_CO</th><th style=\"text-align: right;\">  Encode_D_63_CR</th><th style=\"text-align: right;\">  Encode_D_63_XL</th><th style=\"text-align: right;\">  Encode_D_63_XM</th><th style=\"text-align: right;\">  Encode_D_63_XZ</th></tr>\n",
       "</thead>\n",
       "<tbody>\n",
       "<tr><td><i style='opacity: 0.6'>0</i></td><td>&#x27;00000469ba478561f23a92a868bd366de6f6527a684c9a2...</td><td>2019-02-19 00:00:00.000000000</td><td style=\"text-align: right;\">0.631315</td><td style=\"text-align: right;\">0.00191178</td><td style=\"text-align: right;\">0.0107281</td><td style=\"text-align: right;\">0.814497</td><td style=\"text-align: right;\">0.0075469 </td><td style=\"text-align: right;\">0.168651</td><td style=\"text-align: right;\">0.00997145 </td><td style=\"text-align: right;\">0.00234699</td><td style=\"text-align: right;\">0.113189</td><td style=\"text-align: right;\">   nan</td><td style=\"text-align: right;\">0.00758394</td><td style=\"text-align: right;\">0.116402</td><td style=\"text-align: right;\">0.00448252</td><td style=\"text-align: right;\">0.00951677</td><td style=\"text-align: right;\">0.00517788</td><td style=\"text-align: right;\">   nan</td><td style=\"text-align: right;\">0.474383</td><td style=\"text-align: right;\">0.626467</td><td style=\"text-align: right;\">   nan</td><td style=\"text-align: right;\">0.174591</td><td style=\"text-align: right;\">1.25068 </td><td style=\"text-align: right;\">1.00393</td><td style=\"text-align: right;\">   nan</td><td style=\"text-align: right;\">0.00871788</td><td style=\"text-align: right;\">0.00101294</td><td style=\"text-align: right;\">0.10359 </td><td style=\"text-align: right;\">0.119043</td><td style=\"text-align: right;\">  nan</td><td style=\"text-align: right;\">-0.00291864</td><td style=\"text-align: right;\">   nan</td><td style=\"text-align: right;\">0.00277111</td><td style=\"text-align: right;\">0.00441611</td><td style=\"text-align: right;\">1.00687</td><td style=\"text-align: right;\">1.00507</td><td style=\"text-align: right;\">0.00280969 </td><td style=\"text-align: right;\">0.105587</td><td style=\"text-align: right;\">0.119198</td><td style=\"text-align: right;\">0.321676</td><td style=\"text-align: right;\">0.114564</td><td style=\"text-align: right;\">   nan</td><td style=\"text-align: right;\">nan       </td><td style=\"text-align: right;\">0.00341963</td><td style=\"text-align: right;\">0.205898</td><td style=\"text-align: right;\">nan        </td><td style=\"text-align: right;\">0.0101822</td><td style=\"text-align: right;\">   nan</td><td style=\"text-align: right;\">0.0274716</td><td style=\"text-align: right;\">0.588734</td><td style=\"text-align: right;\">0.0104886</td><td style=\"text-align: right;\">1.88186</td><td style=\"text-align: right;\">0.051811 </td><td>CR    </td><td>--    </td><td style=\"text-align: right;\">0.0082942 </td><td style=\"text-align: right;\">0.00866339 </td><td style=\"text-align: right;\">   nan</td><td style=\"text-align: right;\">0.592103</td><td style=\"text-align: right;\">0.00914422 </td><td style=\"text-align: right;\">   nan</td><td style=\"text-align: right;\">0.00498556</td><td style=\"text-align: right;\">   nan</td><td style=\"text-align: right;\">0.190516</td><td style=\"text-align: right;\">0.00267548</td><td style=\"text-align: right;\">0.409411</td><td style=\"text-align: right;\">0.00999046</td><td style=\"text-align: right;\">   nan</td><td style=\"text-align: right;\">0.00521039</td><td style=\"text-align: right;\">nan          </td><td style=\"text-align: right;\">0.0146841</td><td style=\"text-align: right;\">0.00431024</td><td style=\"text-align: right;\">0.400602</td><td style=\"text-align: right;\">1.13479 </td><td style=\"text-align: right;\">0.178862</td><td style=\"text-align: right;\">0.959531</td><td style=\"text-align: right;\">0.217694</td><td style=\"text-align: right;\">0.20459</td><td style=\"text-align: right;\">   nan</td><td style=\"text-align: right;\">0.00979851</td><td style=\"text-align: right;\">0.00774832</td><td style=\"text-align: right;\">  0.00291611</td><td style=\"text-align: right;\">0.00689558</td><td style=\"text-align: right;\">0.00165645</td><td style=\"text-align: right;\">0.00435566</td><td style=\"text-align: right;\">nan         </td><td style=\"text-align: right;\">0.00200825</td><td style=\"text-align: right;\">  nan</td><td style=\"text-align: right;\">0.00253103</td><td style=\"text-align: right;\">0.000347592</td><td style=\"text-align: right;\">0.00117267</td><td style=\"text-align: right;\">0.00417011</td><td style=\"text-align: right;\">0.00458466</td><td style=\"text-align: right;\">0.0022906 </td><td style=\"text-align: right;\">0.50824 </td><td style=\"text-align: right;\">0.00509321</td><td style=\"text-align: right;\">1.00294</td><td style=\"text-align: right;\">0.133804</td><td style=\"text-align: right;\">0.00432192</td><td style=\"text-align: right;\">   nan</td><td style=\"text-align: right;\">0.00885726</td><td style=\"text-align: right;\">0.00414409</td><td style=\"text-align: right;\">0.00956315</td><td style=\"text-align: right;\">0.00694241</td><td style=\"text-align: right;\">   nan</td><td style=\"text-align: right;\">     0</td><td style=\"text-align: right;\">0.00368354</td><td style=\"text-align: right;\">0.00990896</td><td style=\"text-align: right;\">   nan</td><td style=\"text-align: right;\">0.00890767 </td><td style=\"text-align: right;\">0.00295539</td><td style=\"text-align: right;\">   nan</td><td style=\"text-align: right;\">     1</td><td style=\"text-align: right;\">0.00899935</td><td style=\"text-align: right;\">0.0034176 </td><td style=\"text-align: right;\">0.00220038</td><td style=\"text-align: right;\">0.00378094</td><td style=\"text-align: right;\">0.00294782</td><td style=\"text-align: right;\">0.00463466 </td><td style=\"text-align: right;\">1.00381</td><td style=\"text-align: right;\">0.00665331</td><td style=\"text-align: right;\">0.00747407</td><td style=\"text-align: right;\">0.000191559</td><td style=\"text-align: right;\">   nan</td><td style=\"text-align: right;\">0.00876118</td><td style=\"text-align: right;\">0.000834586</td><td style=\"text-align: right;\">0.00438883</td><td style=\"text-align: right;\">0.00411474</td><td style=\"text-align: right;\">0.008442 </td><td style=\"text-align: right;\">0.00957461</td><td style=\"text-align: right;\">0.981078</td><td style=\"text-align: right;\">0.134916</td><td style=\"text-align: right;\">0.954664</td><td style=\"text-align: right;\">0.971086</td><td style=\"text-align: right;\">0.00656218</td><td style=\"text-align: right;\">0.00241861</td><td style=\"text-align: right;\">nan         </td><td style=\"text-align: right;\">nan         </td><td style=\"text-align: right;\">    nan</td><td style=\"text-align: right;\">    nan</td><td style=\"text-align: right;\">nan         </td><td style=\"text-align: right;\">0.00814552 </td><td style=\"text-align: right;\">0.00796956</td><td style=\"text-align: right;\">   nan</td><td style=\"text-align: right;\">nan      </td><td style=\"text-align: right;\">     1</td><td style=\"text-align: right;\">    nan</td><td style=\"text-align: right;\">0.00512378 </td><td style=\"text-align: right;\">    nan</td><td style=\"text-align: right;\">    nan</td><td style=\"text-align: right;\">   nan</td><td style=\"text-align: right;\">1.00413</td><td style=\"text-align: right;\">0.274203</td><td style=\"text-align: right;\">0.00430155</td><td style=\"text-align: right;\">    nan</td><td style=\"text-align: right;\">    nan</td><td style=\"text-align: right;\">    nan</td><td style=\"text-align: right;\">    nan</td><td style=\"text-align: right;\">    nan</td><td style=\"text-align: right;\">    nan</td><td style=\"text-align: right;\">    nan</td><td style=\"text-align: right;\">    nan</td><td style=\"text-align: right;\">    nan</td><td style=\"text-align: right;\">    nan</td><td style=\"text-align: right;\">    nan</td><td style=\"text-align: right;\">    nan</td><td style=\"text-align: right;\">    nan</td><td style=\"text-align: right;\">      0</td><td style=\"text-align: right;\">0.00620146</td><td style=\"text-align: right;\">nan         </td><td style=\"text-align: right;\">nan        </td><td style=\"text-align: right;\">0.00966439</td><td style=\"text-align: right;\">   nan</td><td style=\"text-align: right;\">nan        </td><td style=\"text-align: right;\">nan         </td><td style=\"text-align: right;\">    nan</td><td style=\"text-align: right;\">0.00708155</td><td style=\"text-align: right;\">0.00595746</td><td style=\"text-align: right;\">    nan</td><td style=\"text-align: right;\">    nan</td><td style=\"text-align: right;\">    nan</td><td style=\"text-align: right;\">    nan</td><td style=\"text-align: right;\">    nan</td><td style=\"text-align: right;\">nan          </td><td style=\"text-align: right;\">0.00466874</td><td style=\"text-align: right;\">nan         </td><td style=\"text-align: right;\">    nan</td><td style=\"text-align: right;\">nan         </td><td style=\"text-align: right;\">0.00828072</td><td style=\"text-align: right;\">nan         </td><td style=\"text-align: right;\">               0</td><td style=\"text-align: right;\">               0</td><td style=\"text-align: right;\">               1</td><td style=\"text-align: right;\">               0</td><td style=\"text-align: right;\">               0</td><td style=\"text-align: right;\">               0</td></tr>\n",
       "<tr><td><i style='opacity: 0.6'>1</i></td><td>&#x27;00000469ba478561f23a92a868bd366de6f6527a684c9a2...</td><td>2019-03-25 00:00:00.000000000</td><td style=\"text-align: right;\">0.587042</td><td style=\"text-align: right;\">0.00527516</td><td style=\"text-align: right;\">0.0110264</td><td style=\"text-align: right;\">0.810848</td><td style=\"text-align: right;\">0.00181713</td><td style=\"text-align: right;\">0.241389</td><td style=\"text-align: right;\">0.000165841</td><td style=\"text-align: right;\">0.00913184</td><td style=\"text-align: right;\">0.123035</td><td style=\"text-align: right;\">   nan</td><td style=\"text-align: right;\">0.00664612</td><td style=\"text-align: right;\">0.134878</td><td style=\"text-align: right;\">0.00949742</td><td style=\"text-align: right;\">0.0263128 </td><td style=\"text-align: right;\">0.00902887</td><td style=\"text-align: right;\">   nan</td><td style=\"text-align: right;\">0.473587</td><td style=\"text-align: right;\">0.611682</td><td style=\"text-align: right;\">   nan</td><td style=\"text-align: right;\">0.177115</td><td style=\"text-align: right;\">0.234169</td><td style=\"text-align: right;\">1.0093 </td><td style=\"text-align: right;\">   nan</td><td style=\"text-align: right;\">0.00314562</td><td style=\"text-align: right;\">0.00553325</td><td style=\"text-align: right;\">0.101239</td><td style=\"text-align: right;\">0.120991</td><td style=\"text-align: right;\">  nan</td><td style=\"text-align: right;\"> 0.0312215 </td><td style=\"text-align: right;\">   nan</td><td style=\"text-align: right;\">0.00649655</td><td style=\"text-align: right;\">0.010003  </td><td style=\"text-align: right;\">1.00573</td><td style=\"text-align: right;\">1.00043</td><td style=\"text-align: right;\">0.000525444</td><td style=\"text-align: right;\">0.160562</td><td style=\"text-align: right;\">0.12149 </td><td style=\"text-align: right;\">0.170728</td><td style=\"text-align: right;\">0.184116</td><td style=\"text-align: right;\">   nan</td><td style=\"text-align: right;\">  0.028347</td><td style=\"text-align: right;\">0.00715627</td><td style=\"text-align: right;\">0.40327 </td><td style=\"text-align: right;\">  0.0144908</td><td style=\"text-align: right;\">0.0251299</td><td style=\"text-align: right;\">   nan</td><td style=\"text-align: right;\">0.0547896</td><td style=\"text-align: right;\">0.622886</td><td style=\"text-align: right;\">0.0217041</td><td style=\"text-align: right;\">2.04328</td><td style=\"text-align: right;\">0.0575675</td><td>CR    </td><td>--    </td><td style=\"text-align: right;\">0.00201132</td><td style=\"text-align: right;\">0.000834965</td><td style=\"text-align: right;\">   nan</td><td style=\"text-align: right;\">0.590922</td><td style=\"text-align: right;\">0.000164971</td><td style=\"text-align: right;\">   nan</td><td style=\"text-align: right;\">0.00155656</td><td style=\"text-align: right;\">   nan</td><td style=\"text-align: right;\">0.190172</td><td style=\"text-align: right;\">0.001771  </td><td style=\"text-align: right;\">0.561424</td><td style=\"text-align: right;\">0.00812512</td><td style=\"text-align: right;\">   nan</td><td style=\"text-align: right;\">0.0083936 </td><td style=\"text-align: right;\">  0.000605985</td><td style=\"text-align: right;\">0.0119452</td><td style=\"text-align: right;\">0.00228308</td><td style=\"text-align: right;\">0.605887</td><td style=\"text-align: right;\">0.208381</td><td style=\"text-align: right;\">0.179502</td><td style=\"text-align: right;\">0.961667</td><td style=\"text-align: right;\">0.216526</td><td style=\"text-align: right;\">0.20657</td><td style=\"text-align: right;\">   nan</td><td style=\"text-align: right;\">0.00454856</td><td style=\"text-align: right;\">0.00309792</td><td style=\"text-align: right;\">nan         </td><td style=\"text-align: right;\">0.00368181</td><td style=\"text-align: right;\">0.00551609</td><td style=\"text-align: right;\">0.00150627</td><td style=\"text-align: right;\">  0.00101343</td><td style=\"text-align: right;\">0.00644376</td><td style=\"text-align: right;\">  nan</td><td style=\"text-align: right;\">0.00716918</td><td style=\"text-align: right;\">0.003077   </td><td style=\"text-align: right;\">0.00588013</td><td style=\"text-align: right;\">0.00405636</td><td style=\"text-align: right;\">0.00963441</td><td style=\"text-align: right;\">0.00122534</td><td style=\"text-align: right;\">0.508681</td><td style=\"text-align: right;\">0.00731878</td><td style=\"text-align: right;\">1.00383</td><td style=\"text-align: right;\">0.144626</td><td style=\"text-align: right;\">0.00530049</td><td style=\"text-align: right;\">   nan</td><td style=\"text-align: right;\">0.00147682</td><td style=\"text-align: right;\">0.00208327</td><td style=\"text-align: right;\">0.00223393</td><td style=\"text-align: right;\">0.0055229 </td><td style=\"text-align: right;\">   nan</td><td style=\"text-align: right;\">     0</td><td style=\"text-align: right;\">0.00640957</td><td style=\"text-align: right;\">0.00745846</td><td style=\"text-align: right;\">   nan</td><td style=\"text-align: right;\">0.000842595</td><td style=\"text-align: right;\">0.00745731</td><td style=\"text-align: right;\">   nan</td><td style=\"text-align: right;\">     1</td><td style=\"text-align: right;\">0.00512042</td><td style=\"text-align: right;\">0.00238172</td><td style=\"text-align: right;\">0.00655687</td><td style=\"text-align: right;\">0.00169092</td><td style=\"text-align: right;\">0.00444885</td><td style=\"text-align: right;\">0.000574375</td><td style=\"text-align: right;\">1.00463</td><td style=\"text-align: right;\">0.00439397</td><td style=\"text-align: right;\">0.00116868</td><td style=\"text-align: right;\">0.00669346 </td><td style=\"text-align: right;\">   nan</td><td style=\"text-align: right;\">0.00431823</td><td style=\"text-align: right;\">0.00807239 </td><td style=\"text-align: right;\">0.00788821</td><td style=\"text-align: right;\">0.0076558 </td><td style=\"text-align: right;\">0.0063469</td><td style=\"text-align: right;\">0.00695177</td><td style=\"text-align: right;\">0.966995</td><td style=\"text-align: right;\">0.138531</td><td style=\"text-align: right;\">0.957019</td><td style=\"text-align: right;\">0.975003</td><td style=\"text-align: right;\">0.00461062</td><td style=\"text-align: right;\">0.00654858</td><td style=\"text-align: right;\">  0.00303095</td><td style=\"text-align: right;\">  0.00875541</td><td style=\"text-align: right;\">    nan</td><td style=\"text-align: right;\">    nan</td><td style=\"text-align: right;\">  0.00469763</td><td style=\"text-align: right;\">7.76608e-05</td><td style=\"text-align: right;\">0.0154626 </td><td style=\"text-align: right;\">   nan</td><td style=\"text-align: right;\">  1.00767</td><td style=\"text-align: right;\">     1</td><td style=\"text-align: right;\">    nan</td><td style=\"text-align: right;\">0.000609953</td><td style=\"text-align: right;\">    nan</td><td style=\"text-align: right;\">    nan</td><td style=\"text-align: right;\">   nan</td><td style=\"text-align: right;\">1.00449</td><td style=\"text-align: right;\">0.353639</td><td style=\"text-align: right;\">0.276623  </td><td style=\"text-align: right;\">    nan</td><td style=\"text-align: right;\">    nan</td><td style=\"text-align: right;\">    nan</td><td style=\"text-align: right;\">    nan</td><td style=\"text-align: right;\">    nan</td><td style=\"text-align: right;\">    nan</td><td style=\"text-align: right;\">    nan</td><td style=\"text-align: right;\">    nan</td><td style=\"text-align: right;\">    nan</td><td style=\"text-align: right;\">    nan</td><td style=\"text-align: right;\">    nan</td><td style=\"text-align: right;\">    nan</td><td style=\"text-align: right;\">    nan</td><td style=\"text-align: right;\">      0</td><td style=\"text-align: right;\">0.00383328</td><td style=\"text-align: right;\">  0.00878201</td><td style=\"text-align: right;\">  0.0055785</td><td style=\"text-align: right;\">0.00744129</td><td style=\"text-align: right;\">   nan</td><td style=\"text-align: right;\">  0.0075985</td><td style=\"text-align: right;\">  0.00807434</td><td style=\"text-align: right;\">    nan</td><td style=\"text-align: right;\">0.00718787</td><td style=\"text-align: right;\">0.00125274</td><td style=\"text-align: right;\">    nan</td><td style=\"text-align: right;\">    nan</td><td style=\"text-align: right;\">    nan</td><td style=\"text-align: right;\">    nan</td><td style=\"text-align: right;\">    nan</td><td style=\"text-align: right;\">  0.000142021</td><td style=\"text-align: right;\">0.0049399 </td><td style=\"text-align: right;\">  0.00902138</td><td style=\"text-align: right;\">    nan</td><td style=\"text-align: right;\">  0.00369527</td><td style=\"text-align: right;\">0.00375294</td><td style=\"text-align: right;\">  0.00145997</td><td style=\"text-align: right;\">               0</td><td style=\"text-align: right;\">               0</td><td style=\"text-align: right;\">               1</td><td style=\"text-align: right;\">               0</td><td style=\"text-align: right;\">               0</td><td style=\"text-align: right;\">               0</td></tr>\n",
       "</tbody>\n",
       "</table>"
      ],
      "text/plain": [
       "  #  customer_ID                                          Date                                P_2        D_39        B_1       B_2         R_1       S_3         D_41         B_3      D_42    D_43        D_44       B_4        D_45         B_5         R_2    D_46      D_47      D_48    D_49       B_6       B_7      B_8    D_50        D_51         B_9       R_3      D_52    P_3         B_10    D_53         S_5        B_11      S_6     D_54          R_4       S_7      B_12       S_8      D_55    D_56        B_13         R_5      D_58          S_9       B_14    D_59       D_60      D_61       B_15     S_11       D_62  D_63    D_64          D_65         B_16    B_17      B_18         B_19    D_66        B_20    D_68      S_12         R_6      S_13        B_21    D_69        B_22           D_70       D_71        D_72      S_15      B_23      D_73       P_4      D_74     D_75    D_76        B_24         R_7          D_77        B_25        B_26        D_78          D_79         R_8    R_9        S_16         D_80        R_10        R_11        B_27        D_81      D_82        S_17     R_12      B_28        R_13    D_83        R_14        R_15        D_84        R_16    B_29    B_30        S_18        D_86    D_87         R_17        R_18    D_88    B_31        S_19        R_19        B_32        S_20        R_20         R_21     B_33        D_89        R_22         R_23    D_91        D_92         D_93        D_94        R_24       R_25        D_96      S_22      S_23      S_24      S_25        S_26       D_102         D_103         D_104    D_105    D_106         D_107         B_36        B_37    R_26       R_27    B_38    D_108        D_109    D_110    D_111    B_39    D_112      B_40        S_27    D_113    D_114    D_115    D_116    D_117    D_118    D_119    D_120    D_121    D_122    D_123    D_124    D_125    D_126       D_127         D_128        D_129        B_41    B_42        D_130         D_131    D_132       D_133        R_28    D_134    D_135    D_136    D_137    D_138          D_139       D_140         D_141    D_142         D_143       D_144         D_145    Encode_D_63_CL    Encode_D_63_CO    Encode_D_63_CR    Encode_D_63_XL    Encode_D_63_XM    Encode_D_63_XZ\n",
       "  0  '00000469ba478561f23a92a868bd366de6f6527a684c9a2...  2019-02-19 00:00:00.000000000  0.631315  0.00191178  0.0107281  0.814497  0.0075469   0.168651  0.00997145   0.00234699  0.113189     nan  0.00758394  0.116402  0.00448252  0.00951677  0.00517788     nan  0.474383  0.626467     nan  0.174591  1.25068   1.00393     nan  0.00871788  0.00101294  0.10359   0.119043    nan  -0.00291864     nan  0.00277111  0.00441611  1.00687  1.00507  0.00280969   0.105587  0.119198  0.321676  0.114564     nan  nan         0.00341963  0.205898  nan          0.0101822     nan  0.0274716  0.588734  0.0104886  1.88186  0.051811   CR      --      0.0082942   0.00866339      nan  0.592103  0.00914422      nan  0.00498556     nan  0.190516  0.00267548  0.409411  0.00999046     nan  0.00521039  nan            0.0146841  0.00431024  0.400602  1.13479   0.178862  0.959531  0.217694  0.20459     nan  0.00979851  0.00774832    0.00291611  0.00689558  0.00165645  0.00435566  nan           0.00200825    nan  0.00253103  0.000347592  0.00117267  0.00417011  0.00458466  0.0022906   0.50824   0.00509321  1.00294  0.133804  0.00432192     nan  0.00885726  0.00414409  0.00956315  0.00694241     nan       0  0.00368354  0.00990896     nan  0.00890767   0.00295539     nan       1  0.00899935  0.0034176   0.00220038  0.00378094  0.00294782  0.00463466   1.00381  0.00665331  0.00747407  0.000191559     nan  0.00876118  0.000834586  0.00438883  0.00411474  0.008442   0.00957461  0.981078  0.134916  0.954664  0.971086  0.00656218  0.00241861  nan           nan               nan      nan  nan           0.00814552   0.00796956     nan  nan             1      nan  0.00512378       nan      nan     nan  1.00413  0.274203  0.00430155      nan      nan      nan      nan      nan      nan      nan      nan      nan      nan      nan      nan      nan        0  0.00620146  nan           nan          0.00966439     nan  nan          nan               nan  0.00708155  0.00595746      nan      nan      nan      nan      nan  nan            0.00466874  nan               nan  nan           0.00828072  nan                          0                 0                 1                 0                 0                 0\n",
       "  1  '00000469ba478561f23a92a868bd366de6f6527a684c9a2...  2019-03-25 00:00:00.000000000  0.587042  0.00527516  0.0110264  0.810848  0.00181713  0.241389  0.000165841  0.00913184  0.123035     nan  0.00664612  0.134878  0.00949742  0.0263128   0.00902887     nan  0.473587  0.611682     nan  0.177115  0.234169  1.0093      nan  0.00314562  0.00553325  0.101239  0.120991    nan   0.0312215      nan  0.00649655  0.010003    1.00573  1.00043  0.000525444  0.160562  0.12149   0.170728  0.184116     nan    0.028347  0.00715627  0.40327     0.0144908  0.0251299     nan  0.0547896  0.622886  0.0217041  2.04328  0.0575675  CR      --      0.00201132  0.000834965     nan  0.590922  0.000164971     nan  0.00155656     nan  0.190172  0.001771    0.561424  0.00812512     nan  0.0083936     0.000605985  0.0119452  0.00228308  0.605887  0.208381  0.179502  0.961667  0.216526  0.20657     nan  0.00454856  0.00309792  nan           0.00368181  0.00551609  0.00150627    0.00101343  0.00644376    nan  0.00716918  0.003077     0.00588013  0.00405636  0.00963441  0.00122534  0.508681  0.00731878  1.00383  0.144626  0.00530049     nan  0.00147682  0.00208327  0.00223393  0.0055229      nan       0  0.00640957  0.00745846     nan  0.000842595  0.00745731     nan       1  0.00512042  0.00238172  0.00655687  0.00169092  0.00444885  0.000574375  1.00463  0.00439397  0.00116868  0.00669346      nan  0.00431823  0.00807239   0.00788821  0.0076558   0.0063469  0.00695177  0.966995  0.138531  0.957019  0.975003  0.00461062  0.00654858    0.00303095    0.00875541      nan      nan    0.00469763  7.76608e-05  0.0154626      nan    1.00767       1      nan  0.000609953      nan      nan     nan  1.00449  0.353639  0.276623        nan      nan      nan      nan      nan      nan      nan      nan      nan      nan      nan      nan      nan        0  0.00383328    0.00878201    0.0055785  0.00744129     nan    0.0075985    0.00807434      nan  0.00718787  0.00125274      nan      nan      nan      nan      nan    0.000142021  0.0049399     0.00902138      nan    0.00369527  0.00375294    0.00145997                 0                 0                 1                 0                 0                 0"
      ]
     },
     "execution_count": 34,
     "metadata": {},
     "output_type": "execute_result"
    }
   ],
   "source": [
    "test.head(2)"
   ]
  },
  {
   "cell_type": "code",
   "execution_count": 35,
   "id": "1eb4a2f5-aafe-4646-a783-f74a1bba2b5f",
   "metadata": {},
   "outputs": [],
   "source": [
    "# test.Date.min()"
   ]
  },
  {
   "cell_type": "code",
   "execution_count": 36,
   "id": "f11dc37a-9b0b-44c3-9128-fe6e7c56da56",
   "metadata": {},
   "outputs": [],
   "source": [
    "# test.Date.max()"
   ]
  },
  {
   "cell_type": "code",
   "execution_count": 37,
   "id": "13ba6c7f-ba1c-496a-979f-6bc627d27fae",
   "metadata": {},
   "outputs": [],
   "source": [
    "# print(\"There are {} unique customers in the dataset\\n\".format(test.customer_ID.nunique()))\n",
    "# test.groupby([test.customer_ID]).agg({'Date':'count'})['Date'].value_counts()"
   ]
  },
  {
   "cell_type": "code",
   "execution_count": 38,
   "id": "753aceab-4fa5-4c6e-becf-a37915e27317",
   "metadata": {},
   "outputs": [],
   "source": [
    "# test_cols=list(test.columns)\n",
    "# test_nulls={}\n",
    "# for col in test_cols:\n",
    "#     test_nulls[col]=test[col].isna().sum().sum()"
   ]
  },
  {
   "cell_type": "code",
   "execution_count": 39,
   "id": "2b69f60a-9746-4ced-9ad6-65b0cfd6b769",
   "metadata": {},
   "outputs": [],
   "source": [
    "# null_df=pd.DataFrame({'Train':nulls,'Test':test_nulls})"
   ]
  },
  {
   "cell_type": "code",
   "execution_count": 40,
   "id": "d7419246-41bd-4c4f-81c8-88a5f499be8d",
   "metadata": {
    "tags": []
   },
   "outputs": [],
   "source": [
    "# pd.set_option('display.max_rows', None)\n",
    "# null_df.head(200)"
   ]
  },
  {
   "cell_type": "code",
   "execution_count": 41,
   "id": "218ff7cf-bc3e-4872-a797-bf060a47b74d",
   "metadata": {},
   "outputs": [],
   "source": [
    "# test=test[cols_use].groupby(test.customer_ID,agg='mean')\n",
    "new_test=test.groupby([test.customer_ID],sort=True).agg({'Date':'max'})\n",
    "test=test.join(new_test,on='customer_ID',rsuffix='_max')\n",
    "test=test[test.Date == test.Date_max].drop(['customer_ID_max','Date_max'])\n",
    "\n",
    "test=test.to_pandas_df()\n",
    "# test=test.drop('Date_mean',inplace=True)"
   ]
  },
  {
   "cell_type": "code",
   "execution_count": 42,
   "id": "515fef1e-e5a1-4f88-a543-df1ae818b7d1",
   "metadata": {},
   "outputs": [],
   "source": [
    "# test.head(2)"
   ]
  },
  {
   "cell_type": "markdown",
   "id": "8106c985-00ee-4bd1-83e3-9baa6101e17d",
   "metadata": {},
   "source": [
    "#### Make predictions"
   ]
  },
  {
   "cell_type": "code",
   "execution_count": 43,
   "id": "009f557d-fd56-49a8-a0cd-80c967cac83e",
   "metadata": {},
   "outputs": [],
   "source": [
    "prediction=nn_model.predict(test[new_cols])"
   ]
  },
  {
   "cell_type": "code",
   "execution_count": 44,
   "id": "35cec48b-e6c7-4761-820e-75f8714573b5",
   "metadata": {},
   "outputs": [],
   "source": [
    "test['prediction']=prediction\n",
    "final=test[['customer_ID','prediction']]"
   ]
  },
  {
   "cell_type": "code",
   "execution_count": 45,
   "id": "1363445b-eb23-4201-9002-40bd94ebdd55",
   "metadata": {},
   "outputs": [],
   "source": [
    "import numpy as np\n",
    "import seaborn as sns"
   ]
  },
  {
   "cell_type": "markdown",
   "id": "8e936983-e251-4f5f-bc57-0737f5b6cd8f",
   "metadata": {},
   "source": [
    "#### Visualize predictions"
   ]
  },
  {
   "cell_type": "code",
   "execution_count": 63,
   "id": "6904b4ff-c212-4661-acce-df24d10a3499",
   "metadata": {},
   "outputs": [
    {
     "data": {
      "text/plain": [
       "<AxesSubplot:>"
      ]
     },
     "execution_count": 63,
     "metadata": {},
     "output_type": "execute_result"
    },
    {
     "data": {
      "image/png": "[encoded data removed]",
      "text/plain": [
       "<Figure size 432x288 with 2 Axes>"
      ]
     },
     "metadata": {
      "needs_background": "light"
     },
     "output_type": "display_data"
    }
   ],
   "source": [
    "#Move up, then delete valids for memory\n",
    "from sklearn.metrics import confusion_matrix\n",
    "Y_valid_pred=pd.DataFrame(index=np.arange(0,len(Y_valid)))\n",
    "Y_valid_pred['prediction']=nn_model.predict(X_valid[new_cols])\n",
    "Y_valid_pred['prediction']=Y_valid_pred.prediction.apply(lambda x: 1 if x>=0.5 else 0)\n",
    "cf_matrix = confusion_matrix(Y_valid, Y_valid_pred.prediction)\n",
    "sns.heatmap(cf_matrix/1000, annot=True,cmap='Blues')"
   ]
  },
  {
   "cell_type": "markdown",
   "id": "5d9f2aca-5a1f-4e1d-8299-7d1878d8bcbb",
   "metadata": {},
   "source": [
    "Custom metric provided by the competition hosts is copy pasted below"
   ]
  },
  {
   "cell_type": "code",
   "execution_count": 56,
   "id": "af729bb0-a9f7-4313-bda0-2a403533e3f2",
   "metadata": {
    "tags": []
   },
   "outputs": [],
   "source": [
    "def amex_metric(y_true: pd.DataFrame, y_pred: pd.DataFrame) -> float:\n",
    "    def top_four_percent_captured(y_true=y_true, y_pred=y_pred) -> float:\n",
    "        y_pred=y_pred.set_index(y_true.index)\n",
    "        df = pd.concat([y_true, y_pred], axis=1,join='inner')\n",
    "        df=df.sort_values(by=['prediction'], ascending=False,axis=0)\n",
    "        df['weight'] = df['target'].apply(lambda x: 20 if x==0 else 1)\n",
    "        four_pct_cutoff = int(0.04 * df['weight'].sum())\n",
    "        df['weight_cumsum'] = df['weight'].cumsum()\n",
    "        df_cutoff = df.loc[df['weight_cumsum'] <= four_pct_cutoff]\n",
    "        return (df_cutoff['target'] == 1).sum() / (df['target'] == 1).sum()\n",
    "        \n",
    "    def weighted_gini(y_true=y_true, y_pred=y_pred) -> float:\n",
    "        y_pred=y_pred.set_index(y_true.index)\n",
    "        df = pd.concat([y_true, y_pred], axis=1,join='inner')\n",
    "        df=df.sort_values(by=['prediction'], ascending=False)\n",
    "        df['weight'] = df['target'].apply(lambda x: 20 if x==0 else 1)\n",
    "        df['random'] = (df['weight'] / df['weight'].sum()).cumsum()\n",
    "        total_pos = (df['target'] * df['weight']).sum()\n",
    "        df['cum_pos_found'] = (df['target'] * df['weight']).cumsum()\n",
    "        df['lorentz'] = df['cum_pos_found'] / total_pos\n",
    "        df['gini'] = (df['lorentz'] - df['random']) * df['weight']\n",
    "        return df['gini'].sum()\n",
    "\n",
    "    def normalized_weighted_gini(y_true=y_true, y_pred=y_pred) -> float:\n",
    "        y_pred=y_pred.set_index(y_true.index)\n",
    "        y_true_pred = y_true.rename(columns={'target': 'prediction'})\n",
    "        return weighted_gini(y_true, y_pred) / weighted_gini(y_true, y_true_pred)\n",
    "\n",
    "    g = normalized_weighted_gini(y_true, y_pred)\n",
    "    d = top_four_percent_captured(y_true, y_pred)\n",
    "\n",
    "    return 0.5 * (g + d)"
   ]
  },
  {
   "cell_type": "code",
   "execution_count": 64,
   "id": "aae0ff3b-19a6-4019-a9d0-f73797344def",
   "metadata": {},
   "outputs": [
    {
     "data": {
      "text/plain": [
       "0.5064450886274932"
      ]
     },
     "execution_count": 64,
     "metadata": {},
     "output_type": "execute_result"
    }
   ],
   "source": [
    "Y_valid=pd.DataFrame(Y_valid)\n",
    "amex_metric(Y_valid,Y_valid_pred)"
   ]
  },
  {
   "cell_type": "code",
   "execution_count": 47,
   "id": "4538907c-edaa-417c-964e-6fc419f28001",
   "metadata": {},
   "outputs": [
    {
     "data": {
      "text/html": [
       "<div>\n",
       "<style scoped>\n",
       "    .dataframe tbody tr th:only-of-type {\n",
       "        vertical-align: middle;\n",
       "    }\n",
       "\n",
       "    .dataframe tbody tr th {\n",
       "        vertical-align: top;\n",
       "    }\n",
       "\n",
       "    .dataframe thead th {\n",
       "        text-align: right;\n",
       "    }\n",
       "</style>\n",
       "<table border=\"1\" class=\"dataframe\">\n",
       "  <thead>\n",
       "    <tr style=\"text-align: right;\">\n",
       "      <th></th>\n",
       "      <th>customer_ID</th>\n",
       "      <th>prediction</th>\n",
       "    </tr>\n",
       "  </thead>\n",
       "  <tbody>\n",
       "    <tr>\n",
       "      <th>0</th>\n",
       "      <td>00000469ba478561f23a92a868bd366de6f6527a684c9a...</td>\n",
       "      <td>0.027653</td>\n",
       "    </tr>\n",
       "    <tr>\n",
       "      <th>1</th>\n",
       "      <td>00001bf2e77ff879fab36aa4fac689b9ba411dae63ae39...</td>\n",
       "      <td>0.022012</td>\n",
       "    </tr>\n",
       "    <tr>\n",
       "      <th>2</th>\n",
       "      <td>0000210045da4f81e5f122c6bde5c2a617d03eef67f82c...</td>\n",
       "      <td>0.100707</td>\n",
       "    </tr>\n",
       "    <tr>\n",
       "      <th>3</th>\n",
       "      <td>00003b41e58ede33b8daf61ab56d9952f17c9ad1c3976c...</td>\n",
       "      <td>0.280830</td>\n",
       "    </tr>\n",
       "    <tr>\n",
       "      <th>4</th>\n",
       "      <td>00004b22eaeeeb0ec976890c1d9bfc14fd9427e98c4ee9...</td>\n",
       "      <td>0.867141</td>\n",
       "    </tr>\n",
       "    <tr>\n",
       "      <th>...</th>\n",
       "      <td>...</td>\n",
       "      <td>...</td>\n",
       "    </tr>\n",
       "    <tr>\n",
       "      <th>924616</th>\n",
       "      <td>ffff952c631f2c911b8a2a8ca56ea6e656309a83d2f64c...</td>\n",
       "      <td>0.027834</td>\n",
       "    </tr>\n",
       "    <tr>\n",
       "      <th>924617</th>\n",
       "      <td>ffffcf5df59e5e0bba2a5ac4578a34e2b5aa64a1546cd3...</td>\n",
       "      <td>0.639607</td>\n",
       "    </tr>\n",
       "    <tr>\n",
       "      <th>924618</th>\n",
       "      <td>ffffd61f098cc056dbd7d2a21380c4804bbfe60856f475...</td>\n",
       "      <td>0.156907</td>\n",
       "    </tr>\n",
       "    <tr>\n",
       "      <th>924619</th>\n",
       "      <td>ffffddef1fc3643ea179c93245b68dca0f36941cd83977...</td>\n",
       "      <td>0.305726</td>\n",
       "    </tr>\n",
       "    <tr>\n",
       "      <th>924620</th>\n",
       "      <td>fffffa7cf7e453e1acc6a1426475d5cb9400859f82ff61...</td>\n",
       "      <td>0.040723</td>\n",
       "    </tr>\n",
       "  </tbody>\n",
       "</table>\n",
       "<p>924621 rows × 2 columns</p>\n",
       "</div>"
      ],
      "text/plain": [
       "                                              customer_ID  prediction\n",
       "0       00000469ba478561f23a92a868bd366de6f6527a684c9a...    0.027653\n",
       "1       00001bf2e77ff879fab36aa4fac689b9ba411dae63ae39...    0.022012\n",
       "2       0000210045da4f81e5f122c6bde5c2a617d03eef67f82c...    0.100707\n",
       "3       00003b41e58ede33b8daf61ab56d9952f17c9ad1c3976c...    0.280830\n",
       "4       00004b22eaeeeb0ec976890c1d9bfc14fd9427e98c4ee9...    0.867141\n",
       "...                                                   ...         ...\n",
       "924616  ffff952c631f2c911b8a2a8ca56ea6e656309a83d2f64c...    0.027834\n",
       "924617  ffffcf5df59e5e0bba2a5ac4578a34e2b5aa64a1546cd3...    0.639607\n",
       "924618  ffffd61f098cc056dbd7d2a21380c4804bbfe60856f475...    0.156907\n",
       "924619  ffffddef1fc3643ea179c93245b68dca0f36941cd83977...    0.305726\n",
       "924620  fffffa7cf7e453e1acc6a1426475d5cb9400859f82ff61...    0.040723\n",
       "\n",
       "[924621 rows x 2 columns]"
      ]
     },
     "execution_count": 47,
     "metadata": {},
     "output_type": "execute_result"
    }
   ],
   "source": [
    "final"
   ]
  },
  {
   "cell_type": "code",
   "execution_count": 48,
   "id": "1bcafddc-223e-402c-97d6-885028f494fd",
   "metadata": {},
   "outputs": [
    {
     "name": "stderr",
     "output_type": "stream",
     "text": [
      "C:\\Users\\julia\\AppData\\Local\\Temp\\ipykernel_12492\\939794576.py:1: SettingWithCopyWarning: \n",
      "A value is trying to be set on a copy of a slice from a DataFrame.\n",
      "Try using .loc[row_indexer,col_indexer] = value instead\n",
      "\n",
      "See the caveats in the documentation: https://pandas.pydata.org/pandas-docs/stable/user_guide/indexing.html#returning-a-view-versus-a-copy\n",
      "  final['prediction']=final['prediction'].apply(lambda x: 1 if x>=0.5 else 0)\n"
     ]
    }
   ],
   "source": [
    "final['prediction']=final['prediction'].apply(lambda x: 1 if x>=0.5 else 0)"
   ]
  },
  {
   "cell_type": "code",
   "execution_count": 49,
   "id": "68d8c580-8ab2-48c8-b643-0d1ccdfbec5f",
   "metadata": {},
   "outputs": [
    {
     "data": {
      "text/plain": [
       "0    730395\n",
       "1    194226\n",
       "Name: prediction, dtype: int64"
      ]
     },
     "execution_count": 49,
     "metadata": {},
     "output_type": "execute_result"
    }
   ],
   "source": [
    "final['prediction'].value_counts()"
   ]
  },
  {
   "cell_type": "code",
   "execution_count": 85,
   "id": "92023b6d-ac7f-41f7-a411-e23aefb67425",
   "metadata": {},
   "outputs": [
    {
     "data": {
      "text/plain": [
       "0    711968\n",
       "1    212653\n",
       "Name: keras_pred, dtype: int64"
      ]
     },
     "execution_count": 85,
     "metadata": {},
     "output_type": "execute_result"
    }
   ],
   "source": [
    "# val['keras_pred'].value_counts()"
   ]
  },
  {
   "cell_type": "code",
   "execution_count": 50,
   "id": "0fd09200-3207-49b1-ac55-843e388de772",
   "metadata": {},
   "outputs": [],
   "source": [
    "final.to_csv('submission.csv',index=False)"
   ]
  },
  {
   "cell_type": "code",
   "execution_count": null,
   "id": "5ef8e200-44bf-4599-be87-fbd9b1aa0974",
   "metadata": {},
   "outputs": [],
   "source": []
  }
 ],
 "metadata": {
  "kernelspec": {
   "display_name": "Python 3 (ipykernel)",
   "language": "python",
   "name": "python3"
  },
  "language_info": {
   "codemirror_mode": {
    "name": "ipython",
    "version": 3
   },
   "file_extension": ".py",
   "mimetype": "text/x-python",
   "name": "python",
   "nbconvert_exporter": "python",
   "pygments_lexer": "ipython3",
   "version": "3.8.8"
  }
 },
 "nbformat": 4,
 "nbformat_minor": 5
}
